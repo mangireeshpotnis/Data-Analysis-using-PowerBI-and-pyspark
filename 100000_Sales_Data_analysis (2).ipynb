{
  "nbformat": 4,
  "nbformat_minor": 0,
  "metadata": {
    "colab": {
      "name": "100000_Sales_Data_analysis.ipynb",
      "provenance": [],
      "collapsed_sections": []
    },
    "kernelspec": {
      "name": "python3",
      "display_name": "Python 3"
    }
  },
  "cells": [
    {
      "cell_type": "markdown",
      "metadata": {
        "id": "XhjJua3ZVaDW",
        "colab_type": "text"
      },
      "source": [
        "#Accessing the file from drive\n"
      ]
    },
    {
      "cell_type": "code",
      "metadata": {
        "id": "Tb1gDqLjwRyq",
        "colab_type": "code",
        "colab": {}
      },
      "source": [
        "!pip install -U -q PyDrive\n",
        "from pydrive.auth import GoogleAuth\n",
        "from pydrive.drive import GoogleDrive\n",
        "from google.colab import auth\n",
        "from oauth2client.client import GoogleCredentials"
      ],
      "execution_count": 0,
      "outputs": []
    },
    {
      "cell_type": "code",
      "metadata": {
        "id": "i_Oy27OQwwq5",
        "colab_type": "code",
        "colab": {}
      },
      "source": [
        "auth.authenticate_user()\n",
        "gauth = GoogleAuth()\n",
        "gauth.credentials = GoogleCredentials.get_application_default()\n",
        "drive = GoogleDrive(gauth)"
      ],
      "execution_count": 0,
      "outputs": []
    },
    {
      "cell_type": "code",
      "metadata": {
        "id": "s74rc8vEwyv5",
        "colab_type": "code",
        "colab": {}
      },
      "source": [
        "downloaded = drive.CreateFile({'id':'1-hJXei9qmyZxKMH-zRm02t_RPnWyOfKL'})\n",
        "downloaded.GetContentFile('100000 Sales Records.csv')"
      ],
      "execution_count": 0,
      "outputs": []
    },
    {
      "cell_type": "markdown",
      "metadata": {
        "id": "zTtGGKoJViwA",
        "colab_type": "text"
      },
      "source": [
        "#Installing dependencies\n"
      ]
    },
    {
      "cell_type": "code",
      "metadata": {
        "id": "3_F1jRF5Up6Q",
        "colab_type": "code",
        "colab": {}
      },
      "source": [
        "!apt-get install openjdk-8-jdk-headless -qq > /dev/null\n",
        "!wget -q http://apache.osuosl.org/spark/spark-2.4.4/spark-2.4.4-bin-hadoop2.7.tgz\n",
        "!tar xf spark-2.4.4-bin-hadoop2.7.tgz\n",
        "!pip install -q findspark"
      ],
      "execution_count": 0,
      "outputs": []
    },
    {
      "cell_type": "code",
      "metadata": {
        "id": "J2-o5Ka7U2m0",
        "colab_type": "code",
        "colab": {}
      },
      "source": [
        "import os\n",
        "os.environ[\"JAVA_HOME\"] = \"/usr/lib/jvm/java-8-openjdk-amd64\"\n",
        "os.environ[\"SPARK_HOME\"] = \"/content/spark-2.4.4-bin-hadoop2.7\""
      ],
      "execution_count": 0,
      "outputs": []
    },
    {
      "cell_type": "code",
      "metadata": {
        "id": "y8KY-K1MU4Mh",
        "colab_type": "code",
        "colab": {}
      },
      "source": [
        "import findspark\n",
        "findspark.init()\n",
        "from pyspark.sql import SparkSession\n",
        "spark = SparkSession.builder.master(\"local[*]\").getOrCreate()"
      ],
      "execution_count": 0,
      "outputs": []
    },
    {
      "cell_type": "markdown",
      "metadata": {
        "id": "fhrfzY6mVmbD",
        "colab_type": "text"
      },
      "source": [
        "#Reading the csv file"
      ]
    },
    {
      "cell_type": "code",
      "metadata": {
        "id": "-lskv9UaVA0C",
        "colab_type": "code",
        "colab": {}
      },
      "source": [
        "data = spark.read.csv('100000 Sales Records.csv',inferSchema=True, header =True)"
      ],
      "execution_count": 0,
      "outputs": []
    },
    {
      "cell_type": "code",
      "metadata": {
        "id": "lS83946XVL9S",
        "colab_type": "code",
        "outputId": "5c638aa8-3482-498b-8d01-d3f83ac63176",
        "colab": {
          "base_uri": "https://localhost:8080/",
          "height": 486
        }
      },
      "source": [
        "data.show(truncate = False)"
      ],
      "execution_count": 8,
      "outputs": [
        {
          "output_type": "stream",
          "text": [
            "+---------------------------------+----------------------+---------------+-------------+--------------+----------+---------+----------+----------+----------+---------+-------------+----------+------------+\n",
            "|Region                           |Country               |Item Type      |Sales Channel|Order Priority|Order Date|Order ID |Ship Date |Units Sold|Unit Price|Unit Cost|Total Revenue|Total Cost|Total Profit|\n",
            "+---------------------------------+----------------------+---------------+-------------+--------------+----------+---------+----------+----------+----------+---------+-------------+----------+------------+\n",
            "|Middle East and North Africa     |Azerbaijan            |Snacks         |Online       |C             |10/8/2014 |535113847|10/23/2014|934       |152.58    |97.44    |142509.72    |91008.96  |51500.76    |\n",
            "|Central America and the Caribbean|Panama                |Cosmetics      |Offline      |L             |2/22/2015 |874708545|2/27/2015 |4551      |437.2     |263.33   |1989697.2    |1198414.83|791282.37   |\n",
            "|Sub-Saharan Africa               |Sao Tome and Principe |Fruits         |Offline      |M             |12/9/2015 |854349935|1/18/2016 |9986      |9.33      |6.92     |93169.38     |69103.12  |24066.26    |\n",
            "|Sub-Saharan Africa               |Sao Tome and Principe |Personal Care  |Online       |M             |9/17/2014 |892836844|10/12/2014|9118      |81.73     |56.67    |745214.14    |516717.06 |228497.08   |\n",
            "|Central America and the Caribbean|Belize                |Household      |Offline      |H             |2/4/2010  |129280602|3/5/2010  |5858      |668.27    |502.54   |3914725.66   |2943879.32|970846.34   |\n",
            "|Europe                           |Denmark               |Clothes        |Online       |C             |2/20/2013 |473105037|2/28/2013 |1149      |109.28    |35.84    |125562.72    |41180.16  |84382.56    |\n",
            "|Europe                           |Germany               |Cosmetics      |Offline      |M             |3/31/2013 |754046475|5/3/2013  |7964      |437.2     |263.33   |3481860.8    |2097160.12|1384700.68  |\n",
            "|Middle East and North Africa     |Turkey                |Fruits         |Online       |C             |3/26/2012 |772153747|4/7/2012  |6307      |9.33      |6.92     |58844.31     |43644.44  |15199.87    |\n",
            "|Europe                           |United Kingdom        |Snacks         |Online       |H             |12/29/2012|847788178|1/15/2013 |8217      |152.58    |97.44    |1253749.86   |800664.48 |453085.38   |\n",
            "|Asia                             |Kazakhstan            |Cosmetics      |Online       |H             |9/11/2015 |471623599|9/18/2015 |2758      |437.2     |263.33   |1205797.6    |726264.14 |479533.46   |\n",
            "|Central America and the Caribbean|Haiti                 |Cosmetics      |Online       |C             |12/27/2013|554646337|1/1/2014  |1031      |437.2     |263.33   |450753.2     |271493.23 |179259.97   |\n",
            "|Europe                           |Italy                 |Clothes        |Online       |M             |12/17/2013|278155219|1/10/2014 |1165      |109.28    |35.84    |127311.2     |41753.6   |85557.6     |\n",
            "|Europe                           |Malta                 |Household      |Offline      |L             |3/10/2015 |243761575|4/17/2015 |3322      |668.27    |502.54   |2219992.94   |1669437.88|550555.06   |\n",
            "|Middle East and North Africa     |Jordan                |Household      |Offline      |L             |7/9/2014  |223389232|7/18/2014 |4693      |668.27    |502.54   |3136191.11   |2358420.22|777770.89   |\n",
            "|Asia                             |Cambodia              |Vegetables     |Offline      |H             |6/14/2017 |509274518|6/29/2017 |4502      |154.06    |90.93    |693578.12    |409366.86 |284211.26   |\n",
            "|Central America and the Caribbean|Saint Kitts and Nevis |Office Supplies|Online       |H             |8/10/2011 |563966262|8/29/2011 |9004      |651.21    |524.96   |5863494.84   |4726739.84|1136755.0   |\n",
            "|Sub-Saharan Africa               |Cameroon              |Fruits         |Online       |H             |12/18/2015|370325791|2/6/2016  |6486      |9.33      |6.92     |60514.38     |44883.12  |15631.26    |\n",
            "|Middle East and North Africa     |Bahrain               |Vegetables     |Offline      |L             |6/26/2016 |881526935|7/19/2016 |2264      |154.06    |90.93    |348791.84    |205865.52 |142926.32   |\n",
            "|Australia and Oceania            |Solomon Islands       |Beverages      |Offline      |C             |5/11/2015 |871056020|5/30/2015 |3688      |47.45     |31.79    |174995.6     |117241.52 |57754.08    |\n",
            "|Europe                           |Monaco                |Office Supplies|Online       |M             |1/13/2012 |982711875|1/17/2012 |5137      |651.21    |524.96   |3345265.77   |2696719.52|648546.25   |\n",
            "+---------------------------------+----------------------+---------------+-------------+--------------+----------+---------+----------+----------+----------+---------+-------------+----------+------------+\n",
            "only showing top 20 rows\n",
            "\n"
          ],
          "name": "stdout"
        }
      ]
    },
    {
      "cell_type": "markdown",
      "metadata": {
        "id": "b0f_hz_5XKM8",
        "colab_type": "text"
      },
      "source": [
        "#Making the data workable"
      ]
    },
    {
      "cell_type": "markdown",
      "metadata": {
        "id": "3Ijd4Ju2Ylep",
        "colab_type": "text"
      },
      "source": [
        "Renaming Columns "
      ]
    },
    {
      "cell_type": "code",
      "metadata": {
        "id": "ycisoDdYVwOP",
        "colab_type": "code",
        "colab": {}
      },
      "source": [
        "data = data.withColumnRenamed('Item Type','Item_Type').withColumnRenamed('Sales Channel','Sales Channel').withColumnRenamed('Order Priority','Order Priority').withColumnRenamed('Order Date','Order_Date').withColumnRenamed('Order ID','Order_ID').withColumnRenamed('Ship Date','Ship_Date').withColumnRenamed('Units Sold','Units_Sold').withColumnRenamed('Unit Price','Unit_Price').withColumnRenamed('Unit Cost','Unit_Cost').withColumnRenamed('Total Revenue','Total_Revenue').withColumnRenamed('Total Cost','Total_Cost').withColumnRenamed('Total Profit','Total_Profit').withColumnRenamed('Sales Channel','Sales_Channel').withColumnRenamed('Order Priority','Order_Priority')"
      ],
      "execution_count": 0,
      "outputs": []
    },
    {
      "cell_type": "markdown",
      "metadata": {
        "id": "ZJOuDrP5bbqB",
        "colab_type": "text"
      },
      "source": [
        "#Exploratory analysis "
      ]
    },
    {
      "cell_type": "markdown",
      "metadata": {
        "id": "kOE6qE2PcIVs",
        "colab_type": "text"
      },
      "source": [
        "Exploratory analysis is often the first step of data analysis. Here we get familiar with data, ask questions, visualize the data in a number of forms, look for relationships between the variables, look for outliers, patterns and trends in data. The output of exploratory analysis is usually only for the us, the data analysts."
      ]
    },
    {
      "cell_type": "markdown",
      "metadata": {
        "id": "geaSIpPueJK4",
        "colab_type": "text"
      },
      "source": [
        "Showing the updated dataframe"
      ]
    },
    {
      "cell_type": "code",
      "metadata": {
        "id": "AXO3rTGceIvy",
        "colab_type": "code",
        "outputId": "4bd72e81-523d-4631-9057-4fa1f2b977bb",
        "colab": {
          "base_uri": "https://localhost:8080/",
          "height": 279
        }
      },
      "source": [
        "data.show(8)"
      ],
      "execution_count": 0,
      "outputs": [
        {
          "output_type": "stream",
          "text": [
            "+--------------------+--------------------+-------------+-------------+--------------+----------+---------+----------+----------+----------+---------+-------------+----------+------------+\n",
            "|              Region|             Country|    Item_Type|Sales_Channel|Order_Priority|Order_Date| Order_ID| Ship_Date|Units_Sold|Unit_Price|Unit_Cost|Total_Revenue|Total_Cost|Total_Profit|\n",
            "+--------------------+--------------------+-------------+-------------+--------------+----------+---------+----------+----------+----------+---------+-------------+----------+------------+\n",
            "|Middle East and N...|          Azerbaijan|       Snacks|       Online|             C| 10/8/2014|535113847|10/23/2014|       934|    152.58|    97.44|    142509.72|  91008.96|    51500.76|\n",
            "|Central America a...|              Panama|    Cosmetics|      Offline|             L| 2/22/2015|874708545| 2/27/2015|      4551|     437.2|   263.33|    1989697.2|1198414.83|   791282.37|\n",
            "|  Sub-Saharan Africa|Sao Tome and Prin...|       Fruits|      Offline|             M| 12/9/2015|854349935| 1/18/2016|      9986|      9.33|     6.92|     93169.38|  69103.12|    24066.26|\n",
            "|  Sub-Saharan Africa|Sao Tome and Prin...|Personal Care|       Online|             M| 9/17/2014|892836844|10/12/2014|      9118|     81.73|    56.67|    745214.14| 516717.06|   228497.08|\n",
            "|Central America a...|              Belize|    Household|      Offline|             H|  2/4/2010|129280602|  3/5/2010|      5858|    668.27|   502.54|   3914725.66|2943879.32|   970846.34|\n",
            "|              Europe|             Denmark|      Clothes|       Online|             C| 2/20/2013|473105037| 2/28/2013|      1149|    109.28|    35.84|    125562.72|  41180.16|    84382.56|\n",
            "|              Europe|             Germany|    Cosmetics|      Offline|             M| 3/31/2013|754046475|  5/3/2013|      7964|     437.2|   263.33|    3481860.8|2097160.12|  1384700.68|\n",
            "|Middle East and N...|              Turkey|       Fruits|       Online|             C| 3/26/2012|772153747|  4/7/2012|      6307|      9.33|     6.92|     58844.31|  43644.44|    15199.87|\n",
            "+--------------------+--------------------+-------------+-------------+--------------+----------+---------+----------+----------+----------+---------+-------------+----------+------------+\n",
            "only showing top 8 rows\n",
            "\n"
          ],
          "name": "stdout"
        }
      ]
    },
    {
      "cell_type": "markdown",
      "metadata": {
        "id": "L8SkYlrsYn9X",
        "colab_type": "text"
      },
      "source": [
        "Checking the datatypes of columns"
      ]
    },
    {
      "cell_type": "code",
      "metadata": {
        "id": "nYrwwi31YfGo",
        "colab_type": "code",
        "outputId": "91930615-007d-4d61-b7bd-0863277baa12",
        "colab": {
          "base_uri": "https://localhost:8080/",
          "height": 294
        }
      },
      "source": [
        "data.printSchema()"
      ],
      "execution_count": 0,
      "outputs": [
        {
          "output_type": "stream",
          "text": [
            "root\n",
            " |-- Region: string (nullable = true)\n",
            " |-- Country: string (nullable = true)\n",
            " |-- Item_Type: string (nullable = true)\n",
            " |-- Sales_Channel: string (nullable = true)\n",
            " |-- Order_Priority: string (nullable = true)\n",
            " |-- Order_Date: string (nullable = true)\n",
            " |-- Order_ID: integer (nullable = true)\n",
            " |-- Ship_Date: string (nullable = true)\n",
            " |-- Units_Sold: integer (nullable = true)\n",
            " |-- Unit_Price: double (nullable = true)\n",
            " |-- Unit_Cost: double (nullable = true)\n",
            " |-- Total_Revenue: double (nullable = true)\n",
            " |-- Total_Cost: double (nullable = true)\n",
            " |-- Total_Profit: double (nullable = true)\n",
            "\n"
          ],
          "name": "stdout"
        }
      ]
    },
    {
      "cell_type": "markdown",
      "metadata": {
        "id": "VOY_Lmu8Zl8X",
        "colab_type": "text"
      },
      "source": [
        "Row count"
      ]
    },
    {
      "cell_type": "code",
      "metadata": {
        "id": "Y314BiUsYuVI",
        "colab_type": "code",
        "outputId": "416065b5-75c5-4881-c566-a0d3a58c23bb",
        "colab": {
          "base_uri": "https://localhost:8080/",
          "height": 34
        }
      },
      "source": [
        "data.count()"
      ],
      "execution_count": 0,
      "outputs": [
        {
          "output_type": "execute_result",
          "data": {
            "text/plain": [
              "100000"
            ]
          },
          "metadata": {
            "tags": []
          },
          "execution_count": 14
        }
      ]
    },
    {
      "cell_type": "markdown",
      "metadata": {
        "id": "XeruO4RgeSc6",
        "colab_type": "text"
      },
      "source": [
        "Statistical Properties of continuous features"
      ]
    },
    {
      "cell_type": "code",
      "metadata": {
        "id": "7HPKRTQrZqOe",
        "colab_type": "code",
        "outputId": "18d84059-fc5b-44a0-9847-be4d7dc9739b",
        "colab": {
          "base_uri": "https://localhost:8080/",
          "height": 190
        }
      },
      "source": [
        "data.describe(['Unit_Cost','Unit_Price','Units_Sold','Total_Cost','Total_Revenue','Total_Profit']).show()"
      ],
      "execution_count": 0,
      "outputs": [
        {
          "output_type": "stream",
          "text": [
            "+-------+------------------+------------------+-----------------+------------------+------------------+-----------------+\n",
            "|summary|         Unit_Cost|        Unit_Price|       Units_Sold|        Total_Cost|     Total_Revenue|     Total_Profit|\n",
            "+-------+------------------+------------------+-----------------+------------------+------------------+-----------------+\n",
            "|  count|            100000|            100000|           100000|            100000|            100000|           100000|\n",
            "|   mean|188.01971109995176|266.70398939996755|       5001.44617| 941975.4933679946|1336066.7306641012|394091.2372960973|\n",
            "| stddev|175.70602309486486|216.94008096309065|2884.575424393709|1151828.4340069285|1471767.5884969924|379598.6027035508|\n",
            "|    min|              6.92|              9.33|                1|             13.84|             18.66|             4.82|\n",
            "|    max|            524.96|            668.27|            10000|        5249075.04|         6682700.0|        1738700.0|\n",
            "+-------+------------------+------------------+-----------------+------------------+------------------+-----------------+\n",
            "\n"
          ],
          "name": "stdout"
        }
      ]
    },
    {
      "cell_type": "markdown",
      "metadata": {
        "id": "I87gWSgfiq9M",
        "colab_type": "text"
      },
      "source": [
        "finding the unique values in each column"
      ]
    },
    {
      "cell_type": "code",
      "metadata": {
        "id": "AMT2YULXf04h",
        "colab_type": "code",
        "outputId": "ca5bf3a4-77b6-4dee-f523-43bd4cc9d565",
        "colab": {
          "base_uri": "https://localhost:8080/",
          "height": 224
        }
      },
      "source": [
        "data.select('Region').distinct().show()"
      ],
      "execution_count": 0,
      "outputs": [
        {
          "output_type": "stream",
          "text": [
            "+--------------------+\n",
            "|              Region|\n",
            "+--------------------+\n",
            "|Middle East and N...|\n",
            "|Australia and Oce...|\n",
            "|              Europe|\n",
            "|  Sub-Saharan Africa|\n",
            "|Central America a...|\n",
            "|       North America|\n",
            "|                Asia|\n",
            "+--------------------+\n",
            "\n"
          ],
          "name": "stdout"
        }
      ]
    },
    {
      "cell_type": "code",
      "metadata": {
        "id": "Jb-zpIzZlE5-",
        "colab_type": "code",
        "outputId": "9d2e08d0-6111-4f41-81c4-7b5cd427e673",
        "colab": {
          "base_uri": "https://localhost:8080/",
          "height": 466
        }
      },
      "source": [
        "data.select('Country').distinct().show()"
      ],
      "execution_count": 0,
      "outputs": [
        {
          "output_type": "stream",
          "text": [
            "+-----------+\n",
            "|    Country|\n",
            "+-----------+\n",
            "|       Chad|\n",
            "|     Russia|\n",
            "|      Yemen|\n",
            "|    Senegal|\n",
            "|     Sweden|\n",
            "|   Kiribati|\n",
            "|    Eritrea|\n",
            "|Philippines|\n",
            "|   Djibouti|\n",
            "|      Tonga|\n",
            "|  Singapore|\n",
            "|   Malaysia|\n",
            "|       Fiji|\n",
            "|     Turkey|\n",
            "|     Malawi|\n",
            "|       Iraq|\n",
            "|    Germany|\n",
            "|    Comoros|\n",
            "|   Cambodia|\n",
            "|Afghanistan|\n",
            "+-----------+\n",
            "only showing top 20 rows\n",
            "\n"
          ],
          "name": "stdout"
        }
      ]
    },
    {
      "cell_type": "code",
      "metadata": {
        "id": "pTtbonpUlYbU",
        "colab_type": "code",
        "outputId": "e6af8826-5906-49e8-f548-3c356b3f07d1",
        "colab": {
          "base_uri": "https://localhost:8080/",
          "height": 311
        }
      },
      "source": [
        "data.select('Item_Type').distinct().show()"
      ],
      "execution_count": 0,
      "outputs": [
        {
          "output_type": "stream",
          "text": [
            "+---------------+\n",
            "|      Item_Type|\n",
            "+---------------+\n",
            "|      Baby Food|\n",
            "|         Cereal|\n",
            "|           Meat|\n",
            "|      Household|\n",
            "|     Vegetables|\n",
            "|      Beverages|\n",
            "|Office Supplies|\n",
            "|      Cosmetics|\n",
            "|  Personal Care|\n",
            "|         Fruits|\n",
            "|         Snacks|\n",
            "|        Clothes|\n",
            "+---------------+\n",
            "\n"
          ],
          "name": "stdout"
        }
      ]
    },
    {
      "cell_type": "code",
      "metadata": {
        "id": "FRNbqrbule8V",
        "colab_type": "code",
        "outputId": "7ea52a25-1eea-4cd0-cdfd-85a411fca196",
        "colab": {
          "base_uri": "https://localhost:8080/",
          "height": 138
        }
      },
      "source": [
        "data.select('Sales_Channel').distinct().show()"
      ],
      "execution_count": 0,
      "outputs": [
        {
          "output_type": "stream",
          "text": [
            "+-------------+\n",
            "|Sales_Channel|\n",
            "+-------------+\n",
            "|       Online|\n",
            "|      Offline|\n",
            "+-------------+\n",
            "\n"
          ],
          "name": "stdout"
        }
      ]
    },
    {
      "cell_type": "code",
      "metadata": {
        "id": "EsUrsPALll17",
        "colab_type": "code",
        "outputId": "4b8a1050-d23b-45c8-b761-0cb4c597f640",
        "colab": {
          "base_uri": "https://localhost:8080/",
          "height": 173
        }
      },
      "source": [
        "data.select('Order_Priority').distinct().show()"
      ],
      "execution_count": 0,
      "outputs": [
        {
          "output_type": "stream",
          "text": [
            "+--------------+\n",
            "|Order_Priority|\n",
            "+--------------+\n",
            "|             L|\n",
            "|             M|\n",
            "|             C|\n",
            "|             H|\n",
            "+--------------+\n",
            "\n"
          ],
          "name": "stdout"
        }
      ]
    },
    {
      "cell_type": "markdown",
      "metadata": {
        "id": "RvLFYlYlmgWz",
        "colab_type": "text"
      },
      "source": [
        " Filter PySpark Dataframe based on the Condition"
      ]
    },
    {
      "cell_type": "code",
      "metadata": {
        "id": "NhitbhaJlzcX",
        "colab_type": "code",
        "outputId": "0d26d688-e22a-4969-e929-797e361e0b57",
        "colab": {
          "base_uri": "https://localhost:8080/",
          "height": 34
        }
      },
      "source": [
        "# the unit cost of products exceeds the mean value for around 33K products\n",
        "data.filter(data.Unit_Cost >= '188.0197').count()"
      ],
      "execution_count": 0,
      "outputs": [
        {
          "output_type": "execute_result",
          "data": {
            "text/plain": [
              "33394"
            ]
          },
          "metadata": {
            "tags": []
          },
          "execution_count": 35
        }
      ]
    },
    {
      "cell_type": "code",
      "metadata": {
        "id": "DbA4UhKzm0S2",
        "colab_type": "code",
        "outputId": "71021b70-139e-4654-e14e-8e9f31ecdc5f",
        "colab": {
          "base_uri": "https://localhost:8080/",
          "height": 279
        }
      },
      "source": [
        "df = data.filter(data.Unit_Cost >= '188.0197')\n",
        "df.show(8)"
      ],
      "execution_count": 0,
      "outputs": [
        {
          "output_type": "stream",
          "text": [
            "+--------------------+--------------------+---------------+-------------+--------------+----------+---------+---------+----------+----------+---------+-------------+----------+------------+\n",
            "|              Region|             Country|      Item_Type|Sales_Channel|Order_Priority|Order_Date| Order_ID|Ship_Date|Units_Sold|Unit_Price|Unit_Cost|Total_Revenue|Total_Cost|Total_Profit|\n",
            "+--------------------+--------------------+---------------+-------------+--------------+----------+---------+---------+----------+----------+---------+-------------+----------+------------+\n",
            "|Central America a...|              Panama|      Cosmetics|      Offline|             L| 2/22/2015|874708545|2/27/2015|      4551|     437.2|   263.33|    1989697.2|1198414.83|   791282.37|\n",
            "|Central America a...|              Belize|      Household|      Offline|             H|  2/4/2010|129280602| 3/5/2010|      5858|    668.27|   502.54|   3914725.66|2943879.32|   970846.34|\n",
            "|              Europe|             Germany|      Cosmetics|      Offline|             M| 3/31/2013|754046475| 5/3/2013|      7964|     437.2|   263.33|    3481860.8|2097160.12|  1384700.68|\n",
            "|                Asia|          Kazakhstan|      Cosmetics|       Online|             H| 9/11/2015|471623599|9/18/2015|      2758|     437.2|   263.33|    1205797.6| 726264.14|   479533.46|\n",
            "|Central America a...|               Haiti|      Cosmetics|       Online|             C|12/27/2013|554646337| 1/1/2014|      1031|     437.2|   263.33|     450753.2| 271493.23|   179259.97|\n",
            "|              Europe|               Malta|      Household|      Offline|             L| 3/10/2015|243761575|4/17/2015|      3322|    668.27|   502.54|   2219992.94|1669437.88|   550555.06|\n",
            "|Middle East and N...|              Jordan|      Household|      Offline|             L|  7/9/2014|223389232|7/18/2014|      4693|    668.27|   502.54|   3136191.11|2358420.22|   777770.89|\n",
            "|Central America a...|Saint Kitts and N...|Office Supplies|       Online|             H| 8/10/2011|563966262|8/29/2011|      9004|    651.21|   524.96|   5863494.84|4726739.84|   1136755.0|\n",
            "+--------------------+--------------------+---------------+-------------+--------------+----------+---------+---------+----------+----------+---------+-------------+----------+------------+\n",
            "only showing top 8 rows\n",
            "\n"
          ],
          "name": "stdout"
        }
      ]
    },
    {
      "cell_type": "code",
      "metadata": {
        "id": "_trCI-NvrK3l",
        "colab_type": "code",
        "outputId": "36824328-273e-45ad-c941-5c15e1c446cf",
        "colab": {
          "base_uri": "https://localhost:8080/",
          "height": 279
        }
      },
      "source": [
        "df2 = data.filter(data.Item_Type == 'Office Supplies')\n",
        "df2.show(8)"
      ],
      "execution_count": 0,
      "outputs": [
        {
          "output_type": "stream",
          "text": [
            "+--------------------+--------------------+---------------+-------------+--------------+----------+---------+----------+----------+----------+---------+-------------+----------+------------+\n",
            "|              Region|             Country|      Item_Type|Sales_Channel|Order_Priority|Order_Date| Order_ID| Ship_Date|Units_Sold|Unit_Price|Unit_Cost|Total_Revenue|Total_Cost|Total_Profit|\n",
            "+--------------------+--------------------+---------------+-------------+--------------+----------+---------+----------+----------+----------+---------+-------------+----------+------------+\n",
            "|Central America a...|Saint Kitts and N...|Office Supplies|       Online|             H| 8/10/2011|563966262| 8/29/2011|      9004|    651.21|   524.96|   5863494.84|4726739.84|   1136755.0|\n",
            "|              Europe|              Monaco|Office Supplies|       Online|             M| 1/13/2012|982711875| 1/17/2012|      5137|    651.21|   524.96|   3345265.77|2696719.52|   648546.25|\n",
            "|Middle East and N...|            Tunisia |Office Supplies|      Offline|             L|10/28/2010|531506812|11/23/2010|      3532|    651.21|   524.96|   2300073.72|1854158.72|    445915.0|\n",
            "|Central America a...|              Belize|Office Supplies|       Online|             C|  3/7/2016|197827565| 4/21/2016|       428|    651.21|   524.96|    278717.88| 224682.88|     54035.0|\n",
            "|Middle East and N...|            Pakistan|Office Supplies|       Online|             L| 9/14/2016|305963075|10/11/2016|       128|    651.21|   524.96|     83354.88|  67194.88|     16160.0|\n",
            "|Middle East and N...|              Israel|Office Supplies|       Online|             C| 2/27/2013|669069373| 4/10/2013|      1351|    651.21|   524.96|    879784.71| 709220.96|   170563.75|\n",
            "|       North America|              Mexico|Office Supplies|      Offline|             C| 5/12/2016|493924558| 6/16/2016|      2108|    651.21|   524.96|   1372750.68|1106615.68|    266135.0|\n",
            "|              Europe|            Bulgaria|Office Supplies|       Online|             H| 7/16/2015|342011964| 8/20/2015|      7795|    651.21|   524.96|   5076181.95| 4092063.2|   984118.75|\n",
            "+--------------------+--------------------+---------------+-------------+--------------+----------+---------+----------+----------+----------+---------+-------------+----------+------------+\n",
            "only showing top 8 rows\n",
            "\n"
          ],
          "name": "stdout"
        }
      ]
    },
    {
      "cell_type": "code",
      "metadata": {
        "id": "1rIl0C-Wr2Dy",
        "colab_type": "code",
        "outputId": "01c42903-c68f-460b-bd3f-7cd9410182ce",
        "colab": {
          "base_uri": "https://localhost:8080/",
          "height": 34
        }
      },
      "source": [
        "df3 = data.where((data.Region == 'Europe') & (data.Order_Priority == 'H'))\n",
        "df3.count()"
      ],
      "execution_count": 0,
      "outputs": [
        {
          "output_type": "execute_result",
          "data": {
            "text/plain": [
              "6482"
            ]
          },
          "metadata": {
            "tags": []
          },
          "execution_count": 67
        }
      ]
    },
    {
      "cell_type": "code",
      "metadata": {
        "id": "SoyAxlxdsjz8",
        "colab_type": "code",
        "outputId": "b85265ae-c0e2-47df-f37e-6b64e0babab4",
        "colab": {
          "base_uri": "https://localhost:8080/",
          "height": 34
        }
      },
      "source": [
        "df3 = data.where((data.Region == 'Europe') & (data.Order_Priority == 'L')| (data.Order_Priority == 'M'))\n",
        "df3.count()"
      ],
      "execution_count": 0,
      "outputs": [
        {
          "output_type": "execute_result",
          "data": {
            "text/plain": [
              "31517"
            ]
          },
          "metadata": {
            "tags": []
          },
          "execution_count": 69
        }
      ]
    },
    {
      "cell_type": "code",
      "metadata": {
        "id": "JTm3m-3uuHJW",
        "colab_type": "code",
        "outputId": "72bbfb79-5c5d-42da-a00d-2d6cc9f62a26",
        "colab": {
          "base_uri": "https://localhost:8080/",
          "height": 34
        }
      },
      "source": [
        "df3 = data.where((data.Region == 'Europe') & (data.Order_Priority == 'C'))\n",
        "df3.count()"
      ],
      "execution_count": 0,
      "outputs": [
        {
          "output_type": "execute_result",
          "data": {
            "text/plain": [
              "6573"
            ]
          },
          "metadata": {
            "tags": []
          },
          "execution_count": 71
        }
      ]
    },
    {
      "cell_type": "code",
      "metadata": {
        "id": "zZgEOh8vx4ho",
        "colab_type": "code",
        "outputId": "847a2c07-1616-4696-f6eb-04a034cfb6ec",
        "colab": {
          "base_uri": "https://localhost:8080/",
          "height": 311
        }
      },
      "source": [
        "#Getting the count of products in different price ranges\n",
        "data.groupby('Unit_Price').count().show()"
      ],
      "execution_count": 0,
      "outputs": [
        {
          "output_type": "stream",
          "text": [
            "+----------+-----+\n",
            "|Unit_Price|count|\n",
            "+----------+-----+\n",
            "|    255.28| 8407|\n",
            "|    154.06| 8282|\n",
            "|     205.7| 8421|\n",
            "|    651.21| 8426|\n",
            "|     81.73| 8364|\n",
            "|     47.45| 8258|\n",
            "|      9.33| 8262|\n",
            "|    152.58| 8308|\n",
            "|    421.89| 8320|\n",
            "|    668.27| 8278|\n",
            "|     437.2| 8370|\n",
            "|    109.28| 8304|\n",
            "+----------+-----+\n",
            "\n"
          ],
          "name": "stdout"
        }
      ]
    },
    {
      "cell_type": "code",
      "metadata": {
        "id": "Ea-91KmTx4U-",
        "colab_type": "code",
        "outputId": "98c9866e-a01b-4534-8eb7-45998bec4bf6",
        "colab": {
          "base_uri": "https://localhost:8080/",
          "height": 466
        }
      },
      "source": [
        "#Units sold\n",
        "data.groupBy('Units_Sold').count().show()"
      ],
      "execution_count": 0,
      "outputs": [
        {
          "output_type": "stream",
          "text": [
            "+----------+-----+\n",
            "|Units_Sold|count|\n",
            "+----------+-----+\n",
            "|      9427|   16|\n",
            "|      3997|    9|\n",
            "|      9900|   12|\n",
            "|      8638|    5|\n",
            "|      4935|   16|\n",
            "|      8389|   10|\n",
            "|      3794|    6|\n",
            "|      7982|   11|\n",
            "|      5803|    9|\n",
            "|      6620|    4|\n",
            "|      2659|   18|\n",
            "|       496|    7|\n",
            "|      2866|    8|\n",
            "|      6658|   12|\n",
            "|      4101|   15|\n",
            "|      2366|   14|\n",
            "|      1580|   12|\n",
            "|      1342|   12|\n",
            "|      3749|   11|\n",
            "|       463|   11|\n",
            "+----------+-----+\n",
            "only showing top 20 rows\n",
            "\n"
          ],
          "name": "stdout"
        }
      ]
    },
    {
      "cell_type": "code",
      "metadata": {
        "id": "zILhroD1ylY0",
        "colab_type": "code",
        "outputId": "29b81f0b-7e78-4efc-9086-e7f4bf5455d8",
        "colab": {
          "base_uri": "https://localhost:8080/",
          "height": 224
        }
      },
      "source": [
        "#Number of transactions in each region\n",
        "data.groupBy('Region').count().show()"
      ],
      "execution_count": 0,
      "outputs": [
        {
          "output_type": "stream",
          "text": [
            "+--------------------+-----+\n",
            "|              Region|count|\n",
            "+--------------------+-----+\n",
            "|Middle East and N...|12580|\n",
            "|Australia and Oce...| 8113|\n",
            "|              Europe|25877|\n",
            "|  Sub-Saharan Africa|26019|\n",
            "|Central America a...|10731|\n",
            "|       North America| 2133|\n",
            "|                Asia|14547|\n",
            "+--------------------+-----+\n",
            "\n"
          ],
          "name": "stdout"
        }
      ]
    },
    {
      "cell_type": "code",
      "metadata": {
        "id": "BHmLAUEgy7mq",
        "colab_type": "code",
        "outputId": "5bb09bdc-d0e4-4fdb-d37c-21b223d6da21",
        "colab": {
          "base_uri": "https://localhost:8080/",
          "height": 311
        }
      },
      "source": [
        "#No of units sold for each item type\n",
        "data.groupBy('Item_Type').count().show()"
      ],
      "execution_count": 0,
      "outputs": [
        {
          "output_type": "stream",
          "text": [
            "+---------------+-----+\n",
            "|      Item_Type|count|\n",
            "+---------------+-----+\n",
            "|      Baby Food| 8407|\n",
            "|         Cereal| 8421|\n",
            "|           Meat| 8320|\n",
            "|      Household| 8278|\n",
            "|     Vegetables| 8282|\n",
            "|      Beverages| 8258|\n",
            "|Office Supplies| 8426|\n",
            "|      Cosmetics| 8370|\n",
            "|  Personal Care| 8364|\n",
            "|         Fruits| 8262|\n",
            "|         Snacks| 8308|\n",
            "|        Clothes| 8304|\n",
            "+---------------+-----+\n",
            "\n"
          ],
          "name": "stdout"
        }
      ]
    },
    {
      "cell_type": "code",
      "metadata": {
        "id": "ZJQKcgBT2rHP",
        "colab_type": "code",
        "outputId": "15819a66-a061-4e7a-cd38-28ded587896a",
        "colab": {
          "base_uri": "https://localhost:8080/",
          "height": 486
        }
      },
      "source": [
        "data.orderBy(data.Unit_Cost).show()"
      ],
      "execution_count": 0,
      "outputs": [
        {
          "output_type": "stream",
          "text": [
            "+--------------------+--------------------+---------+-------------+--------------+----------+---------+----------+----------+----------+---------+-------------+----------+------------+\n",
            "|              Region|             Country|Item_Type|Sales_Channel|Order_Priority|Order_Date| Order_ID| Ship_Date|Units_Sold|Unit_Price|Unit_Cost|Total_Revenue|Total_Cost|Total_Profit|\n",
            "+--------------------+--------------------+---------+-------------+--------------+----------+---------+----------+----------+----------+---------+-------------+----------+------------+\n",
            "|  Sub-Saharan Africa|            Cameroon|   Fruits|       Online|             C| 9/27/2016|301202046|10/24/2016|      1234|      9.33|     6.92|     11513.22|   8539.28|     2973.94|\n",
            "|  Sub-Saharan Africa|              Malawi|   Fruits|       Online|             M| 5/11/2016|230107629|  6/3/2016|      2816|      9.33|     6.92|     26273.28|  19486.72|     6786.56|\n",
            "|                Asia|            Thailand|   Fruits|       Online|             H| 8/10/2010|882493817| 9/27/2010|      8386|      9.33|     6.92|     78241.38|  58031.12|    20210.26|\n",
            "|  Sub-Saharan Africa|               Ghana|   Fruits|       Online|             H|12/19/2011|249902331|12/21/2011|       508|      9.33|     6.92|      4739.64|   3515.36|     1224.28|\n",
            "|Middle East and N...|               Yemen|   Fruits|      Offline|             L|  6/5/2014|484172046|  7/3/2014|      6123|      9.33|     6.92|     57127.59|  42371.16|    14756.43|\n",
            "|  Sub-Saharan Africa|             Burundi|   Fruits|       Online|             L| 7/21/2017|865428960| 8/30/2017|      8516|      9.33|     6.92|     79454.28|  58930.72|    20523.56|\n",
            "|  Sub-Saharan Africa|             Lesotho|   Fruits|       Online|             M|12/30/2010|169379842| 1/11/2011|      2114|      9.33|     6.92|     19723.62|  14628.88|     5094.74|\n",
            "|Middle East and N...|              Turkey|   Fruits|      Offline|             C|11/26/2012|598884761|12/26/2012|      2164|      9.33|     6.92|     20190.12|  14974.88|     5215.24|\n",
            "|  Sub-Saharan Africa|Central African R...|   Fruits|       Online|             L| 7/24/2012|402318322|  9/3/2012|      3787|      9.33|     6.92|     35332.71|  26206.04|     9126.67|\n",
            "|Middle East and N...|        Saudi Arabia|   Fruits|       Online|             H| 7/11/2011|241660439| 7/17/2011|      1549|      9.33|     6.92|     14452.17|  10719.08|     3733.09|\n",
            "|  Sub-Saharan Africa|              Rwanda|   Fruits|       Online|             C|  3/3/2011|973234450| 3/11/2011|       556|      9.33|     6.92|      5187.48|   3847.52|     1339.96|\n",
            "|  Sub-Saharan Africa|              Malawi|   Fruits|      Offline|             L| 9/17/2015|613667380| 9/25/2015|      6670|      9.33|     6.92|      62231.1|   46156.4|     16074.7|\n",
            "|Central America a...|           Nicaragua|   Fruits|      Offline|             L| 8/12/2014|203910386| 9/16/2014|       469|      9.33|     6.92|      4375.77|   3245.48|     1130.29|\n",
            "|Middle East and N...|              Kuwait|   Fruits|       Online|             C| 6/20/2014|742873895|  7/4/2014|      1749|      9.33|     6.92|     16318.17|  12103.08|     4215.09|\n",
            "|Australia and Oce...|             Vanuatu|   Fruits|       Online|             L|11/25/2012|200148427|  1/3/2013|      7222|      9.33|     6.92|     67381.26|  49976.24|    17405.02|\n",
            "|                Asia|         North Korea|   Fruits|       Online|             H|  1/9/2010|835046184|  2/1/2010|      7577|      9.33|     6.92|     70693.41|  52432.84|    18260.57|\n",
            "|              Europe|              Poland|   Fruits|       Online|             C| 5/12/2014|815406835| 6/28/2014|      5857|      9.33|     6.92|     54645.81|  40530.44|    14115.37|\n",
            "|  Sub-Saharan Africa|          Madagascar|   Fruits|       Online|             M|  6/8/2013|438283956|  7/5/2013|      6817|      9.33|     6.92|     63602.61|  47173.64|    16428.97|\n",
            "|       North America|           Greenland|   Fruits|       Online|             H| 4/21/2012|507001292|  6/7/2012|      1804|      9.33|     6.92|     16831.32|  12483.68|     4347.64|\n",
            "|  Sub-Saharan Africa|        Burkina Faso|   Fruits|      Offline|             C|  5/5/2017|879196631| 5/28/2017|      2676|      9.33|     6.92|     24967.08|  18517.92|     6449.16|\n",
            "+--------------------+--------------------+---------+-------------+--------------+----------+---------+----------+----------+----------+---------+-------------+----------+------------+\n",
            "only showing top 20 rows\n",
            "\n"
          ],
          "name": "stdout"
        }
      ]
    },
    {
      "cell_type": "markdown",
      "metadata": {
        "id": "8_OTmXlyuxki",
        "colab_type": "text"
      },
      "source": [
        "Checking for null values in the dataframe"
      ]
    },
    {
      "cell_type": "code",
      "metadata": {
        "id": "2ZEzo2-IuXvI",
        "colab_type": "code",
        "outputId": "d42e97f7-e57b-4ea7-ee0d-30328b2de4d7",
        "colab": {
          "base_uri": "https://localhost:8080/",
          "height": 34
        }
      },
      "source": [
        "data.filter(data['Region'].isNull()).count()"
      ],
      "execution_count": 0,
      "outputs": [
        {
          "output_type": "execute_result",
          "data": {
            "text/plain": [
              "0"
            ]
          },
          "metadata": {
            "tags": []
          },
          "execution_count": 74
        }
      ]
    },
    {
      "cell_type": "code",
      "metadata": {
        "id": "Sw6fHU46v719",
        "colab_type": "code",
        "outputId": "b7d453bf-e92a-45f3-88bc-6456f18e09ab",
        "colab": {
          "base_uri": "https://localhost:8080/",
          "height": 34
        }
      },
      "source": [
        "data.filter(data['Country'].isNull()).count()"
      ],
      "execution_count": 0,
      "outputs": [
        {
          "output_type": "execute_result",
          "data": {
            "text/plain": [
              "0"
            ]
          },
          "metadata": {
            "tags": []
          },
          "execution_count": 75
        }
      ]
    },
    {
      "cell_type": "code",
      "metadata": {
        "id": "wgbSkrHowQWM",
        "colab_type": "code",
        "outputId": "384c48db-73ee-43a9-e0a4-86473c1454a0",
        "colab": {
          "base_uri": "https://localhost:8080/",
          "height": 34
        }
      },
      "source": [
        "data.filter(data['Item_Type'].isNull()).count()"
      ],
      "execution_count": 0,
      "outputs": [
        {
          "output_type": "execute_result",
          "data": {
            "text/plain": [
              "0"
            ]
          },
          "metadata": {
            "tags": []
          },
          "execution_count": 76
        }
      ]
    },
    {
      "cell_type": "code",
      "metadata": {
        "id": "Nyv46FARwQPW",
        "colab_type": "code",
        "outputId": "6bbdc838-2666-4fa2-eb23-2eace94a18a5",
        "colab": {
          "base_uri": "https://localhost:8080/",
          "height": 34
        }
      },
      "source": [
        "data.filter(data['Sales_Channel'].isNull()).count()"
      ],
      "execution_count": 0,
      "outputs": [
        {
          "output_type": "execute_result",
          "data": {
            "text/plain": [
              "0"
            ]
          },
          "metadata": {
            "tags": []
          },
          "execution_count": 77
        }
      ]
    },
    {
      "cell_type": "code",
      "metadata": {
        "id": "TgXUWopowQIG",
        "colab_type": "code",
        "outputId": "97b49adc-ce3c-4280-f2be-074784b5e96a",
        "colab": {
          "base_uri": "https://localhost:8080/",
          "height": 34
        }
      },
      "source": [
        "data.filter(data['Order_Priority'].isNull()).count()"
      ],
      "execution_count": 0,
      "outputs": [
        {
          "output_type": "execute_result",
          "data": {
            "text/plain": [
              "0"
            ]
          },
          "metadata": {
            "tags": []
          },
          "execution_count": 78
        }
      ]
    },
    {
      "cell_type": "code",
      "metadata": {
        "id": "oC8fXp56wQBt",
        "colab_type": "code",
        "outputId": "ad3a1e12-61b6-4f3b-ec0a-88891b36d640",
        "colab": {
          "base_uri": "https://localhost:8080/",
          "height": 34
        }
      },
      "source": [
        "data.filter(data['Order_Date'].isNull()).count()"
      ],
      "execution_count": 0,
      "outputs": [
        {
          "output_type": "execute_result",
          "data": {
            "text/plain": [
              "0"
            ]
          },
          "metadata": {
            "tags": []
          },
          "execution_count": 79
        }
      ]
    },
    {
      "cell_type": "code",
      "metadata": {
        "id": "OEWO58imwP5m",
        "colab_type": "code",
        "outputId": "66912378-8a22-41d2-d5c1-1f247fa9c099",
        "colab": {
          "base_uri": "https://localhost:8080/",
          "height": 34
        }
      },
      "source": [
        "data.filter(data['Order_ID'].isNull()).count()"
      ],
      "execution_count": 0,
      "outputs": [
        {
          "output_type": "execute_result",
          "data": {
            "text/plain": [
              "0"
            ]
          },
          "metadata": {
            "tags": []
          },
          "execution_count": 80
        }
      ]
    },
    {
      "cell_type": "code",
      "metadata": {
        "id": "C9czqxMQwPzw",
        "colab_type": "code",
        "outputId": "0d8018ee-4284-4cb9-9232-15ab748ae46b",
        "colab": {
          "base_uri": "https://localhost:8080/",
          "height": 34
        }
      },
      "source": [
        "data.filter(data['Ship_Date'].isNull()).count()"
      ],
      "execution_count": 0,
      "outputs": [
        {
          "output_type": "execute_result",
          "data": {
            "text/plain": [
              "0"
            ]
          },
          "metadata": {
            "tags": []
          },
          "execution_count": 81
        }
      ]
    },
    {
      "cell_type": "code",
      "metadata": {
        "id": "rPkxuSDEwPtJ",
        "colab_type": "code",
        "outputId": "9205e5fe-c4fa-422b-80d4-b38fcc12c6dc",
        "colab": {
          "base_uri": "https://localhost:8080/",
          "height": 34
        }
      },
      "source": [
        "data.filter(data['Units_Sold'].isNull()).count()"
      ],
      "execution_count": 0,
      "outputs": [
        {
          "output_type": "execute_result",
          "data": {
            "text/plain": [
              "0"
            ]
          },
          "metadata": {
            "tags": []
          },
          "execution_count": 82
        }
      ]
    },
    {
      "cell_type": "code",
      "metadata": {
        "id": "7qLxRfzQwPlf",
        "colab_type": "code",
        "outputId": "928648b7-78fd-465d-d881-7fd4fdf7f2aa",
        "colab": {
          "base_uri": "https://localhost:8080/",
          "height": 34
        }
      },
      "source": [
        "data.filter(data['Unit_Price'].isNull()).count()"
      ],
      "execution_count": 0,
      "outputs": [
        {
          "output_type": "execute_result",
          "data": {
            "text/plain": [
              "0"
            ]
          },
          "metadata": {
            "tags": []
          },
          "execution_count": 83
        }
      ]
    },
    {
      "cell_type": "code",
      "metadata": {
        "id": "bJOhreW6wPeR",
        "colab_type": "code",
        "outputId": "17191f4e-4a6c-4a27-f2d9-b883b009fcac",
        "colab": {
          "base_uri": "https://localhost:8080/",
          "height": 34
        }
      },
      "source": [
        "data.filter(data['Unit_Cost'].isNull()).count()\n"
      ],
      "execution_count": 0,
      "outputs": [
        {
          "output_type": "execute_result",
          "data": {
            "text/plain": [
              "0"
            ]
          },
          "metadata": {
            "tags": []
          },
          "execution_count": 84
        }
      ]
    },
    {
      "cell_type": "code",
      "metadata": {
        "id": "vimHoi1FwPT_",
        "colab_type": "code",
        "outputId": "df15670f-6fd3-4080-82cf-00bb4ed7a6d5",
        "colab": {
          "base_uri": "https://localhost:8080/",
          "height": 34
        }
      },
      "source": [
        "data.filter(data['Total_Revenue'].isNull()).count()"
      ],
      "execution_count": 0,
      "outputs": [
        {
          "output_type": "execute_result",
          "data": {
            "text/plain": [
              "0"
            ]
          },
          "metadata": {
            "tags": []
          },
          "execution_count": 85
        }
      ]
    },
    {
      "cell_type": "code",
      "metadata": {
        "id": "EmCmsidCwPKi",
        "colab_type": "code",
        "outputId": "b6de2610-fd38-45ce-a133-c07f5cb1a54d",
        "colab": {
          "base_uri": "https://localhost:8080/",
          "height": 34
        }
      },
      "source": [
        "data.filter(data['Total_Cost'].isNull()).count()"
      ],
      "execution_count": 0,
      "outputs": [
        {
          "output_type": "execute_result",
          "data": {
            "text/plain": [
              "0"
            ]
          },
          "metadata": {
            "tags": []
          },
          "execution_count": 86
        }
      ]
    },
    {
      "cell_type": "code",
      "metadata": {
        "id": "G8rXDBsvw4O0",
        "colab_type": "code",
        "outputId": "286481a7-e2fd-439f-a132-89f95d5326aa",
        "colab": {
          "base_uri": "https://localhost:8080/",
          "height": 34
        }
      },
      "source": [
        "data.filter(data['Total_Profit'].isNull()).count()"
      ],
      "execution_count": 0,
      "outputs": [
        {
          "output_type": "execute_result",
          "data": {
            "text/plain": [
              "0"
            ]
          },
          "metadata": {
            "tags": []
          },
          "execution_count": 87
        }
      ]
    },
    {
      "cell_type": "markdown",
      "metadata": {
        "id": "6MH_AU0k2SGj",
        "colab_type": "text"
      },
      "source": [
        "#Sql queries "
      ]
    },
    {
      "cell_type": "code",
      "metadata": {
        "id": "-m-EonM4w33M",
        "colab_type": "code",
        "colab": {}
      },
      "source": [
        "from pyspark.sql import SQLContext\n",
        "sqlContext = SQLContext(spark)"
      ],
      "execution_count": 0,
      "outputs": []
    },
    {
      "cell_type": "code",
      "metadata": {
        "id": "KcXJL8FB2iSP",
        "colab_type": "code",
        "colab": {}
      },
      "source": [
        "data.registerTempTable('big_data')"
      ],
      "execution_count": 0,
      "outputs": []
    },
    {
      "cell_type": "code",
      "metadata": {
        "id": "5AeBn51P2lfl",
        "colab_type": "code",
        "outputId": "4f1092d7-2bb9-40be-bffd-d56816fff6a6",
        "colab": {
          "base_uri": "https://localhost:8080/",
          "height": 486
        }
      },
      "source": [
        "sqlContext.sql('select * from big_data').show(truncate = False)"
      ],
      "execution_count": 12,
      "outputs": [
        {
          "output_type": "stream",
          "text": [
            "+---------------------------------+----------------------+---------------+-------------+--------------+----------+---------+----------+----------+----------+---------+-------------+----------+------------+\n",
            "|Region                           |Country               |Item_Type      |Sales_Channel|Order_Priority|Order_Date|Order_ID |Ship_Date |Units_Sold|Unit_Price|Unit_Cost|Total_Revenue|Total_Cost|Total_Profit|\n",
            "+---------------------------------+----------------------+---------------+-------------+--------------+----------+---------+----------+----------+----------+---------+-------------+----------+------------+\n",
            "|Middle East and North Africa     |Azerbaijan            |Snacks         |Online       |C             |10/8/2014 |535113847|10/23/2014|934       |152.58    |97.44    |142509.72    |91008.96  |51500.76    |\n",
            "|Central America and the Caribbean|Panama                |Cosmetics      |Offline      |L             |2/22/2015 |874708545|2/27/2015 |4551      |437.2     |263.33   |1989697.2    |1198414.83|791282.37   |\n",
            "|Sub-Saharan Africa               |Sao Tome and Principe |Fruits         |Offline      |M             |12/9/2015 |854349935|1/18/2016 |9986      |9.33      |6.92     |93169.38     |69103.12  |24066.26    |\n",
            "|Sub-Saharan Africa               |Sao Tome and Principe |Personal Care  |Online       |M             |9/17/2014 |892836844|10/12/2014|9118      |81.73     |56.67    |745214.14    |516717.06 |228497.08   |\n",
            "|Central America and the Caribbean|Belize                |Household      |Offline      |H             |2/4/2010  |129280602|3/5/2010  |5858      |668.27    |502.54   |3914725.66   |2943879.32|970846.34   |\n",
            "|Europe                           |Denmark               |Clothes        |Online       |C             |2/20/2013 |473105037|2/28/2013 |1149      |109.28    |35.84    |125562.72    |41180.16  |84382.56    |\n",
            "|Europe                           |Germany               |Cosmetics      |Offline      |M             |3/31/2013 |754046475|5/3/2013  |7964      |437.2     |263.33   |3481860.8    |2097160.12|1384700.68  |\n",
            "|Middle East and North Africa     |Turkey                |Fruits         |Online       |C             |3/26/2012 |772153747|4/7/2012  |6307      |9.33      |6.92     |58844.31     |43644.44  |15199.87    |\n",
            "|Europe                           |United Kingdom        |Snacks         |Online       |H             |12/29/2012|847788178|1/15/2013 |8217      |152.58    |97.44    |1253749.86   |800664.48 |453085.38   |\n",
            "|Asia                             |Kazakhstan            |Cosmetics      |Online       |H             |9/11/2015 |471623599|9/18/2015 |2758      |437.2     |263.33   |1205797.6    |726264.14 |479533.46   |\n",
            "|Central America and the Caribbean|Haiti                 |Cosmetics      |Online       |C             |12/27/2013|554646337|1/1/2014  |1031      |437.2     |263.33   |450753.2     |271493.23 |179259.97   |\n",
            "|Europe                           |Italy                 |Clothes        |Online       |M             |12/17/2013|278155219|1/10/2014 |1165      |109.28    |35.84    |127311.2     |41753.6   |85557.6     |\n",
            "|Europe                           |Malta                 |Household      |Offline      |L             |3/10/2015 |243761575|4/17/2015 |3322      |668.27    |502.54   |2219992.94   |1669437.88|550555.06   |\n",
            "|Middle East and North Africa     |Jordan                |Household      |Offline      |L             |7/9/2014  |223389232|7/18/2014 |4693      |668.27    |502.54   |3136191.11   |2358420.22|777770.89   |\n",
            "|Asia                             |Cambodia              |Vegetables     |Offline      |H             |6/14/2017 |509274518|6/29/2017 |4502      |154.06    |90.93    |693578.12    |409366.86 |284211.26   |\n",
            "|Central America and the Caribbean|Saint Kitts and Nevis |Office Supplies|Online       |H             |8/10/2011 |563966262|8/29/2011 |9004      |651.21    |524.96   |5863494.84   |4726739.84|1136755.0   |\n",
            "|Sub-Saharan Africa               |Cameroon              |Fruits         |Online       |H             |12/18/2015|370325791|2/6/2016  |6486      |9.33      |6.92     |60514.38     |44883.12  |15631.26    |\n",
            "|Middle East and North Africa     |Bahrain               |Vegetables     |Offline      |L             |6/26/2016 |881526935|7/19/2016 |2264      |154.06    |90.93    |348791.84    |205865.52 |142926.32   |\n",
            "|Australia and Oceania            |Solomon Islands       |Beverages      |Offline      |C             |5/11/2015 |871056020|5/30/2015 |3688      |47.45     |31.79    |174995.6     |117241.52 |57754.08    |\n",
            "|Europe                           |Monaco                |Office Supplies|Online       |M             |1/13/2012 |982711875|1/17/2012 |5137      |651.21    |524.96   |3345265.77   |2696719.52|648546.25   |\n",
            "+---------------------------------+----------------------+---------------+-------------+--------------+----------+---------+----------+----------+----------+---------+-------------+----------+------------+\n",
            "only showing top 20 rows\n",
            "\n"
          ],
          "name": "stdout"
        }
      ]
    },
    {
      "cell_type": "code",
      "metadata": {
        "id": "-U8RwApw3Rso",
        "colab_type": "code",
        "outputId": "aabd4ace-e882-4fa0-d175-6f574eb1c2b2",
        "colab": {
          "base_uri": "https://localhost:8080/",
          "height": 121
        }
      },
      "source": [
        "sqlContext.sql('select max(Total_Revenue),min(Total_Revenue) from big_data').show()"
      ],
      "execution_count": 0,
      "outputs": [
        {
          "output_type": "stream",
          "text": [
            "+------------------+------------------+\n",
            "|max(Total_Revenue)|min(Total_Revenue)|\n",
            "+------------------+------------------+\n",
            "|         6682700.0|             18.66|\n",
            "+------------------+------------------+\n",
            "\n"
          ],
          "name": "stdout"
        }
      ]
    },
    {
      "cell_type": "code",
      "metadata": {
        "id": "g1P-Pz8536jA",
        "colab_type": "code",
        "outputId": "b77ebda7-3a5c-462f-88de-a65c14cae2a1",
        "colab": {
          "base_uri": "https://localhost:8080/",
          "height": 224
        }
      },
      "source": [
        "sqlContext.sql(\"select DISTINCT(Region) from big_data \").show(truncate = False)\n"
      ],
      "execution_count": 121,
      "outputs": [
        {
          "output_type": "stream",
          "text": [
            "+---------------------------------+\n",
            "|Region                           |\n",
            "+---------------------------------+\n",
            "|Middle East and North Africa     |\n",
            "|Australia and Oceania            |\n",
            "|Europe                           |\n",
            "|Sub-Saharan Africa               |\n",
            "|Central America and the Caribbean|\n",
            "|North America                    |\n",
            "|Asia                             |\n",
            "+---------------------------------+\n",
            "\n"
          ],
          "name": "stdout"
        }
      ]
    },
    {
      "cell_type": "code",
      "metadata": {
        "id": "jUX79UadNk5p",
        "colab_type": "code",
        "colab": {
          "base_uri": "https://localhost:8080/",
          "height": 121
        },
        "outputId": "c7ccc657-ceed-4188-8d78-0e551de65e1e"
      },
      "source": [
        "sqlContext.sql(\"select sum(Unit_Cost),sum(Total_Cost),sum(Unit_Price),count(Units_Sold),sum(Total_Revenue),sum(Total_Profit) from big_data where Region == 'Sub-Saharan Africa' AND Item_Type == 'Baby Food' AND Sales_Channel =='Online' \").show()"
      ],
      "execution_count": 96,
      "outputs": [
        {
          "output_type": "stream",
          "text": [
            "+------------------+-------------------+------------------+-----------------+--------------------+--------------------+\n",
            "|    sum(Unit_Cost)|    sum(Total_Cost)|   sum(Unit_Price)|count(Units_Sold)|  sum(Total_Revenue)|   sum(Total_Profit)|\n",
            "+------------------+-------------------+------------------+-----------------+--------------------+--------------------+\n",
            "|174405.47999999847|8.832518433600007E8|279276.31999999896|             1094|1.4143553542399993E9|5.3110351088000035E8|\n",
            "+------------------+-------------------+------------------+-----------------+--------------------+--------------------+\n",
            "\n"
          ],
          "name": "stdout"
        }
      ]
    },
    {
      "cell_type": "code",
      "metadata": {
        "id": "FVKH2vT2UiY-",
        "colab_type": "code",
        "colab": {
          "base_uri": "https://localhost:8080/",
          "height": 121
        },
        "outputId": "e29a17bd-d6ba-4fff-8307-20d7203a0b3e"
      },
      "source": [
        "sqlContext.sql(\"select sum(Unit_Cost),sum(Total_Cost),sum(Unit_Price),count(Units_Sold),sum(Total_Revenue),sum(Total_Profit) from big_data where Region == 'Sub-Saharan Africa' AND Item_Type == 'Baby Food' AND Sales_Channel =='Offline' \").show()"
      ],
      "execution_count": 97,
      "outputs": [
        {
          "output_type": "stream",
          "text": [
            "+------------------+---------------+-----------------+-----------------+--------------------+-----------------+\n",
            "|    sum(Unit_Cost)|sum(Total_Cost)|  sum(Unit_Price)|count(Units_Sold)|  sum(Total_Revenue)|sum(Total_Profit)|\n",
            "+------------------+---------------+-----------------+-----------------+--------------------+-----------------+\n",
            "|177434.45999999845| 8.8683799626E8|284126.6399999989|             1113|1.4200978778400006E9|   5.3325988158E8|\n",
            "+------------------+---------------+-----------------+-----------------+--------------------+-----------------+\n",
            "\n"
          ],
          "name": "stdout"
        }
      ]
    },
    {
      "cell_type": "code",
      "metadata": {
        "id": "Iu-V-C7qdOEk",
        "colab_type": "code",
        "colab": {
          "base_uri": "https://localhost:8080/",
          "height": 121
        },
        "outputId": "fbf2c044-ffe8-4b21-fdb9-bd87fe7072a1"
      },
      "source": [
        "sqlContext.sql(\"select sum(Unit_Cost),sum(Total_Cost),sum(Unit_Price),count(Units_Sold),sum(Total_Revenue),sum(Total_Profit) from big_data where Region == 'Asia' AND Item_Type == 'Baby Food' AND Sales_Channel =='Online' \").show()"
      ],
      "execution_count": 119,
      "outputs": [
        {
          "output_type": "stream",
          "text": [
            "+------------------+-------------------+------------------+-----------------+-------------------+--------------------+\n",
            "|    sum(Unit_Cost)|    sum(Total_Cost)|   sum(Unit_Price)|count(Units_Sold)| sum(Total_Revenue)|   sum(Total_Profit)|\n",
            "+------------------+-------------------+------------------+-----------------+-------------------+--------------------+\n",
            "|102188.21999999926|5.024424198000001E8|163634.47999999946|              641|8.045634232000002E8|3.0212100340000004E8|\n",
            "+------------------+-------------------+------------------+-----------------+-------------------+--------------------+\n",
            "\n"
          ],
          "name": "stdout"
        }
      ]
    },
    {
      "cell_type": "code",
      "metadata": {
        "id": "4N7ujjo6d1wz",
        "colab_type": "code",
        "colab": {
          "base_uri": "https://localhost:8080/",
          "height": 121
        },
        "outputId": "1206d935-050c-4ad2-e3f2-9d74bd4d53cf"
      },
      "source": [
        "sqlContext.sql(\"select sum(Unit_Cost),sum(Total_Cost),sum(Unit_Price),count(Units_Sold),sum(Total_Revenue),sum(Total_Profit) from big_data where Region == 'Asia' AND Item_Type == 'Baby Food' AND Sales_Channel =='Offline' \").show()"
      ],
      "execution_count": 126,
      "outputs": [
        {
          "output_type": "stream",
          "text": [
            "+-----------------+-------------------+-----------------+-----------------+-------------------+--------------------+\n",
            "|   sum(Unit_Cost)|    sum(Total_Cost)|  sum(Unit_Price)|count(Units_Sold)| sum(Total_Revenue)|   sum(Total_Profit)|\n",
            "+-----------------+-------------------+-----------------+-----------------+-------------------+--------------------+\n",
            "|96449.09999999932|4.697275227600002E8|154444.3999999995|              605|7.521769038400004E8|2.8244938107999986E8|\n",
            "+-----------------+-------------------+-----------------+-----------------+-------------------+--------------------+\n",
            "\n"
          ],
          "name": "stdout"
        }
      ]
    },
    {
      "cell_type": "code",
      "metadata": {
        "id": "YIPwg51pdN4C",
        "colab_type": "code",
        "colab": {
          "base_uri": "https://localhost:8080/",
          "height": 121
        },
        "outputId": "8b80deb9-50b1-49aa-e487-0ea6d645a9ed"
      },
      "source": [
        "sqlContext.sql(\"select sum(Unit_Cost),sum(Total_Cost),sum(Unit_Price),count(Units_Sold),sum(Total_Revenue),sum(Total_Profit) from big_data where Region == 'Europe' AND Item_Type == 'Baby Food' AND Sales_Channel =='Online' \").show()"
      ],
      "execution_count": 120,
      "outputs": [
        {
          "output_type": "stream",
          "text": [
            "+------------------+-------------------+------------------+-----------------+--------------------+-----------------+\n",
            "|    sum(Unit_Cost)|    sum(Total_Cost)|   sum(Unit_Price)|count(Units_Sold)|  sum(Total_Revenue)|sum(Total_Profit)|\n",
            "+------------------+-------------------+------------------+-----------------+--------------------+-----------------+\n",
            "|173767.79999999847|8.425082362800004E8|278255.19999999896|             1090|1.3491124235199993E9|   5.0660418724E8|\n",
            "+------------------+-------------------+------------------+-----------------+--------------------+-----------------+\n",
            "\n"
          ],
          "name": "stdout"
        }
      ]
    },
    {
      "cell_type": "code",
      "metadata": {
        "id": "G23zwhDLd5hp",
        "colab_type": "code",
        "colab": {
          "base_uri": "https://localhost:8080/",
          "height": 121
        },
        "outputId": "4794ac6a-0837-4320-a73d-8693b2776fee"
      },
      "source": [
        "sqlContext.sql(\"select sum(Unit_Cost),sum(Total_Cost),sum(Unit_Price),count(Units_Sold),sum(Total_Revenue),sum(Total_Profit) from big_data where Region == 'Europe' AND Item_Type == 'Baby Food' AND Sales_Channel =='Offline' \").show()"
      ],
      "execution_count": 127,
      "outputs": [
        {
          "output_type": "stream",
          "text": [
            "+------------------+-------------------+----------------+-----------------+------------------+-------------------+\n",
            "|    sum(Unit_Cost)|    sum(Total_Cost)| sum(Unit_Price)|count(Units_Sold)|sum(Total_Revenue)|  sum(Total_Profit)|\n",
            "+------------------+-------------------+----------------+-----------------+------------------+-------------------+\n",
            "|169304.03999999852|8.493197746200001E8|271107.359999999|             1062|   1.36001977208E9|5.106999974599998E8|\n",
            "+------------------+-------------------+----------------+-----------------+------------------+-------------------+\n",
            "\n"
          ],
          "name": "stdout"
        }
      ]
    },
    {
      "cell_type": "code",
      "metadata": {
        "id": "m5C9kI6_dNwz",
        "colab_type": "code",
        "colab": {
          "base_uri": "https://localhost:8080/",
          "height": 121
        },
        "outputId": "0db447c8-be1f-4ada-aa84-fa64c9dc5160"
      },
      "source": [
        "sqlContext.sql(\"select sum(Unit_Cost),sum(Total_Cost),sum(Unit_Price),count(Units_Sold),sum(Total_Revenue),sum(Total_Profit) from big_data where Region == 'Middle East and North Africa' AND Item_Type == 'Baby Food' AND Sales_Channel =='Online' \").show()"
      ],
      "execution_count": 122,
      "outputs": [
        {
          "output_type": "stream",
          "text": [
            "+----------------+--------------------+------------------+-----------------+-------------------+-------------------+\n",
            "|  sum(Unit_Cost)|     sum(Total_Cost)|   sum(Unit_Price)|count(Units_Sold)| sum(Total_Revenue)|  sum(Total_Profit)|\n",
            "+----------------+--------------------+------------------+-----------------+-------------------+-------------------+\n",
            "|80507.0999999995|4.0336017965999985E8|128916.39999999962|              505|6.459025634400002E8|2.425423837799998E8|\n",
            "+----------------+--------------------+------------------+-----------------+-------------------+-------------------+\n",
            "\n"
          ],
          "name": "stdout"
        }
      ]
    },
    {
      "cell_type": "code",
      "metadata": {
        "id": "k0UMyIbod80e",
        "colab_type": "code",
        "colab": {
          "base_uri": "https://localhost:8080/",
          "height": 121
        },
        "outputId": "65da1b8c-8f63-400f-d800-056e159089f2"
      },
      "source": [
        "sqlContext.sql(\"select sum(Unit_Cost),sum(Total_Cost),sum(Unit_Price),count(Units_Sold),sum(Total_Revenue),sum(Total_Profit) from big_data where Region == 'Middle East and North Africa' AND Item_Type == 'Baby Food' AND Sales_Channel =='Offline' \").show()"
      ],
      "execution_count": 128,
      "outputs": [
        {
          "output_type": "stream",
          "text": [
            "+-----------------+--------------------+------------------+-----------------+------------------+-----------------+\n",
            "|   sum(Unit_Cost)|     sum(Total_Cost)|   sum(Unit_Price)|count(Units_Sold)|sum(Total_Revenue)|sum(Total_Profit)|\n",
            "+-----------------+--------------------+------------------+-----------------+------------------+-----------------+\n",
            "|88478.09999999941|4.5449318814000016E8|141680.39999999956|              555|    7.2778209176E8|   2.7328890362E8|\n",
            "+-----------------+--------------------+------------------+-----------------+------------------+-----------------+\n",
            "\n"
          ],
          "name": "stdout"
        }
      ]
    },
    {
      "cell_type": "code",
      "metadata": {
        "id": "IKBbQJ3EdNng",
        "colab_type": "code",
        "colab": {
          "base_uri": "https://localhost:8080/",
          "height": 121
        },
        "outputId": "d36e3672-4bcf-4e86-c196-1e7ae2e9c618"
      },
      "source": [
        "sqlContext.sql(\"select sum(Unit_Cost),sum(Total_Cost),sum(Unit_Price),count(Units_Sold),sum(Total_Revenue),sum(Total_Profit) from big_data where Region == 'Australia and Oceania' AND Item_Type == 'Baby Food' AND Sales_Channel =='Online' \").show()"
      ],
      "execution_count": 123,
      "outputs": [
        {
          "output_type": "stream",
          "text": [
            "+-----------------+--------------------+-----------------+-----------------+-------------------+--------------------+\n",
            "|   sum(Unit_Cost)|     sum(Total_Cost)|  sum(Unit_Price)|count(Units_Sold)| sum(Total_Revenue)|   sum(Total_Profit)|\n",
            "+-----------------+--------------------+-----------------+-----------------+-------------------+--------------------+\n",
            "|52130.33999999981|2.5914071724000004E8|83476.55999999981|              327|4.149632561600001E8|1.5582253891999993E8|\n",
            "+-----------------+--------------------+-----------------+-----------------+-------------------+--------------------+\n",
            "\n"
          ],
          "name": "stdout"
        }
      ]
    },
    {
      "cell_type": "code",
      "metadata": {
        "id": "ME4R1onSeBA7",
        "colab_type": "code",
        "colab": {
          "base_uri": "https://localhost:8080/",
          "height": 121
        },
        "outputId": "cf85964a-6232-42b9-cdbf-ed4163e7fe73"
      },
      "source": [
        "sqlContext.sql(\"select sum(Unit_Cost),sum(Total_Cost),sum(Unit_Price),count(Units_Sold),sum(Total_Revenue),sum(Total_Profit) from big_data where Region == 'Australia and Oceania' AND Item_Type == 'Baby Food' AND Sales_Channel =='Offline' \").show()"
      ],
      "execution_count": 129,
      "outputs": [
        {
          "output_type": "stream",
          "text": [
            "+-----------------+---------------+-----------------+-----------------+-------------------+--------------------+\n",
            "|   sum(Unit_Cost)|sum(Total_Cost)|  sum(Unit_Price)|count(Units_Sold)| sum(Total_Revenue)|   sum(Total_Profit)|\n",
            "+-----------------+---------------+-----------------+-----------------+-------------------+--------------------+\n",
            "|54362.21999999978| 2.6413375164E8|87050.47999999979|              341|4.229586257599999E8|1.5882487411999995E8|\n",
            "+-----------------+---------------+-----------------+-----------------+-------------------+--------------------+\n",
            "\n"
          ],
          "name": "stdout"
        }
      ]
    },
    {
      "cell_type": "code",
      "metadata": {
        "id": "hv0uXaGRdNbc",
        "colab_type": "code",
        "colab": {
          "base_uri": "https://localhost:8080/",
          "height": 121
        },
        "outputId": "86817fe0-fd19-4443-f904-510e006c1929"
      },
      "source": [
        "sqlContext.sql(\"select sum(Unit_Cost),sum(Total_Cost),sum(Unit_Price),count(Units_Sold),sum(Total_Revenue),sum(Total_Profit) from big_data where Region == 'Central America and the Caribbean' AND Item_Type == 'Baby Food' AND Sales_Channel =='Online' \").show()"
      ],
      "execution_count": 124,
      "outputs": [
        {
          "output_type": "stream",
          "text": [
            "+-----------------+-------------------+-----------------+-----------------+-------------------+-----------------+\n",
            "|   sum(Unit_Cost)|    sum(Total_Cost)|  sum(Unit_Price)|count(Units_Sold)| sum(Total_Revenue)|sum(Total_Profit)|\n",
            "+-----------------+-------------------+-----------------+-----------------+-------------------+-----------------+\n",
            "|69188.27999999962|3.558507877800001E8|110791.5199999997|              434|5.698255495200001E8|   2.1397476174E8|\n",
            "+-----------------+-------------------+-----------------+-----------------+-------------------+-----------------+\n",
            "\n"
          ],
          "name": "stdout"
        }
      ]
    },
    {
      "cell_type": "code",
      "metadata": {
        "id": "sDZXDZwSeDmm",
        "colab_type": "code",
        "colab": {
          "base_uri": "https://localhost:8080/",
          "height": 121
        },
        "outputId": "5ffe1ade-aee6-4289-aecc-ca42be817a4c"
      },
      "source": [
        "sqlContext.sql(\"select sum(Unit_Cost),sum(Total_Cost),sum(Unit_Price),count(Units_Sold),sum(Total_Revenue),sum(Total_Profit) from big_data where Region == 'Central America and the Caribbean' AND Item_Type == 'Baby Food' AND Sales_Channel =='Offline' \").show()"
      ],
      "execution_count": 130,
      "outputs": [
        {
          "output_type": "stream",
          "text": [
            "+-----------------+-------------------+------------------+-----------------+-------------------+--------------------+\n",
            "|   sum(Unit_Cost)|    sum(Total_Cost)|   sum(Unit_Price)|count(Units_Sold)| sum(Total_Revenue)|   sum(Total_Profit)|\n",
            "+-----------------+-------------------+------------------+-----------------+-------------------+--------------------+\n",
            "|73014.35999999958|3.653978139000001E8|116918.23999999967|              458|5.851132475999998E8|2.1971543370000005E8|\n",
            "+-----------------+-------------------+------------------+-----------------+-------------------+--------------------+\n",
            "\n"
          ],
          "name": "stdout"
        }
      ]
    },
    {
      "cell_type": "code",
      "metadata": {
        "id": "aMUOZCyBdNQz",
        "colab_type": "code",
        "colab": {
          "base_uri": "https://localhost:8080/",
          "height": 121
        },
        "outputId": "de144446-4dab-4a4c-fbf4-09832f903e14"
      },
      "source": [
        "sqlContext.sql(\"select sum(Unit_Cost),sum(Total_Cost),sum(Unit_Price),count(Units_Sold),sum(Total_Revenue),sum(Total_Profit) from big_data where Region == 'North America' AND Item_Type == 'Baby Food' AND Sales_Channel =='Online' \").show()"
      ],
      "execution_count": 125,
      "outputs": [
        {
          "output_type": "stream",
          "text": [
            "+------------------+---------------+------------------+-----------------+--------------------+--------------------+\n",
            "|    sum(Unit_Cost)|sum(Total_Cost)|   sum(Unit_Price)|count(Units_Sold)|  sum(Total_Revenue)|   sum(Total_Profit)|\n",
            "+------------------+---------------+------------------+-----------------+--------------------+--------------------+\n",
            "|14188.380000000005|  7.311543228E7|22719.920000000016|               89|1.1708008751999998E8|4.3964655239999995E7|\n",
            "+------------------+---------------+------------------+-----------------+--------------------+--------------------+\n",
            "\n"
          ],
          "name": "stdout"
        }
      ]
    },
    {
      "cell_type": "code",
      "metadata": {
        "id": "qOzF2TtRdsQX",
        "colab_type": "code",
        "colab": {
          "base_uri": "https://localhost:8080/",
          "height": 121
        },
        "outputId": "39ca846d-aef9-45e3-f42d-e7a597909e95"
      },
      "source": [
        "sqlContext.sql(\"select sum(Unit_Cost),sum(Total_Cost),sum(Unit_Price),count(Units_Sold),sum(Total_Revenue),sum(Total_Profit) from big_data where Region == 'North America' AND Item_Type == 'Baby Food' AND Sales_Channel =='Offline' \").show()"
      ],
      "execution_count": 131,
      "outputs": [
        {
          "output_type": "stream",
          "text": [
            "+------------------+---------------+------------------+-----------------+------------------+--------------------+\n",
            "|    sum(Unit_Cost)|sum(Total_Cost)|   sum(Unit_Price)|count(Units_Sold)|sum(Total_Revenue)|   sum(Total_Profit)|\n",
            "+------------------+---------------+------------------+-----------------+------------------+--------------------+\n",
            "|14826.060000000005|  7.197079668E7|23741.040000000015|               93|    1.1524717712E8|4.3276380440000005E7|\n",
            "+------------------+---------------+------------------+-----------------+------------------+--------------------+\n",
            "\n"
          ],
          "name": "stdout"
        }
      ]
    },
    {
      "cell_type": "code",
      "metadata": {
        "id": "LlhGcOaBUiSU",
        "colab_type": "code",
        "colab": {
          "base_uri": "https://localhost:8080/",
          "height": 121
        },
        "outputId": "5e70c82b-eac9-4642-d7fe-005c62cb4f1f"
      },
      "source": [
        "sqlContext.sql(\"select sum(Unit_Cost),sum(Total_Cost),sum(Unit_Price),count(Units_Sold),sum(Total_Revenue),sum(Total_Profit) from big_data where Region == 'Sub-Saharan Africa' AND Item_Type == 'Snacks' AND Sales_Channel =='Online' \").show()"
      ],
      "execution_count": 98,
      "outputs": [
        {
          "output_type": "stream",
          "text": [
            "+------------------+-------------------+------------------+-----------------+-------------------+-----------------+\n",
            "|    sum(Unit_Cost)|    sum(Total_Cost)|   sum(Unit_Price)|count(Units_Sold)| sum(Total_Revenue)|sum(Total_Profit)|\n",
            "+------------------+-------------------+------------------+-----------------+-------------------+-----------------+\n",
            "|104163.36000000054|5.314070663999999E8|163108.02000000147|             1069|8.321232573000001E8|    3.007161909E8|\n",
            "+------------------+-------------------+------------------+-----------------+-------------------+-----------------+\n",
            "\n"
          ],
          "name": "stdout"
        }
      ]
    },
    {
      "cell_type": "code",
      "metadata": {
        "id": "GxtjVYzCUiKe",
        "colab_type": "code",
        "colab": {
          "base_uri": "https://localhost:8080/",
          "height": 121
        },
        "outputId": "5d99cd13-c4d1-4d6a-949f-b09753379365"
      },
      "source": [
        "sqlContext.sql(\"select sum(Unit_Cost),sum(Total_Cost),sum(Unit_Price),count(Units_Sold),sum(Total_Revenue),sum(Total_Profit) from big_data where Region == 'Sub-Saharan Africa' AND Item_Type == 'Snacks' AND Sales_Channel =='Offline' \").show()"
      ],
      "execution_count": 99,
      "outputs": [
        {
          "output_type": "stream",
          "text": [
            "+------------------+-------------------+-----------------+-----------------+-------------------+--------------------+\n",
            "|    sum(Unit_Cost)|    sum(Total_Cost)|  sum(Unit_Price)|count(Units_Sold)| sum(Total_Revenue)|   sum(Total_Profit)|\n",
            "+------------------+-------------------+-----------------+-----------------+-------------------+--------------------+\n",
            "|104942.88000000056|5.323304078399998E8|164328.6600000015|             1077|8.335691053799988E8|3.0123869754000014E8|\n",
            "+------------------+-------------------+-----------------+-----------------+-------------------+--------------------+\n",
            "\n"
          ],
          "name": "stdout"
        }
      ]
    },
    {
      "cell_type": "code",
      "metadata": {
        "id": "SgJQkFmdeM3u",
        "colab_type": "code",
        "colab": {
          "base_uri": "https://localhost:8080/",
          "height": 121
        },
        "outputId": "5d922572-7506-4e82-e489-8d7a2ce3a398"
      },
      "source": [
        "sqlContext.sql(\"select sum(Unit_Cost),sum(Total_Cost),sum(Unit_Price),count(Units_Sold),sum(Total_Revenue),sum(Total_Profit) from big_data where Region == 'Asia' AND Item_Type == 'Snacks' AND Sales_Channel =='Online' \").show()"
      ],
      "execution_count": 132,
      "outputs": [
        {
          "output_type": "stream",
          "text": [
            "+------------------+--------------------+-----------------+-----------------+-------------------+--------------------+\n",
            "|    sum(Unit_Cost)|     sum(Total_Cost)|  sum(Unit_Price)|count(Units_Sold)| sum(Total_Revenue)|   sum(Total_Profit)|\n",
            "+------------------+--------------------+-----------------+-----------------+-------------------+--------------------+\n",
            "|57976.799999999974|3.1023726719999987E8|90785.10000000065|              595|4.857964103999999E8|1.7555914319999993E8|\n",
            "+------------------+--------------------+-----------------+-----------------+-------------------+--------------------+\n",
            "\n"
          ],
          "name": "stdout"
        }
      ]
    },
    {
      "cell_type": "code",
      "metadata": {
        "id": "yese_CoOfLPV",
        "colab_type": "code",
        "colab": {
          "base_uri": "https://localhost:8080/",
          "height": 121
        },
        "outputId": "9c0e6c89-e30c-4736-a906-d2ba80ddf96f"
      },
      "source": [
        "sqlContext.sql(\"select sum(Unit_Cost),sum(Total_Cost),sum(Unit_Price),count(Units_Sold),sum(Total_Revenue),sum(Total_Profit) from big_data where Region == 'Asia' AND Item_Type == 'Snacks' AND Sales_Channel =='Offline' \").show()"
      ],
      "execution_count": 133,
      "outputs": [
        {
          "output_type": "stream",
          "text": [
            "+-----------------+---------------+-----------------+-----------------+-------------------+--------------------+\n",
            "|   sum(Unit_Cost)|sum(Total_Cost)|  sum(Unit_Price)|count(Units_Sold)| sum(Total_Revenue)|   sum(Total_Profit)|\n",
            "+-----------------+---------------+-----------------+-----------------+-------------------+--------------------+\n",
            "|62166.71999999999|  3.065837544E8|97346.04000000072|              638|4.800754233000002E8|1.7349166890000004E8|\n",
            "+-----------------+---------------+-----------------+-----------------+-------------------+--------------------+\n",
            "\n"
          ],
          "name": "stdout"
        }
      ]
    },
    {
      "cell_type": "code",
      "metadata": {
        "id": "zBzCg2GneUmU",
        "colab_type": "code",
        "colab": {
          "base_uri": "https://localhost:8080/",
          "height": 121
        },
        "outputId": "8e4ff8d0-25cf-4111-f9ad-0fc6435dfd23"
      },
      "source": [
        "sqlContext.sql(\"select sum(Unit_Cost),sum(Total_Cost),sum(Unit_Price),count(Units_Sold),sum(Total_Revenue),sum(Total_Profit) from big_data where Region == 'Europe' AND Item_Type == 'Snacks' AND Sales_Channel =='Online' \").show()"
      ],
      "execution_count": 134,
      "outputs": [
        {
          "output_type": "stream",
          "text": [
            "+------------------+--------------------+------------------+-----------------+-------------------+-----------------+\n",
            "|    sum(Unit_Cost)|     sum(Total_Cost)|   sum(Unit_Price)|count(Units_Sold)| sum(Total_Revenue)|sum(Total_Profit)|\n",
            "+------------------+--------------------+------------------+-----------------+-------------------+-----------------+\n",
            "|104845.44000000056|5.0795014032000065E8|164176.08000000147|             1076|7.953923687400004E8|   2.8744222842E8|\n",
            "+------------------+--------------------+------------------+-----------------+-------------------+-----------------+\n",
            "\n"
          ],
          "name": "stdout"
        }
      ]
    },
    {
      "cell_type": "code",
      "metadata": {
        "id": "sioYkTBDfPaU",
        "colab_type": "code",
        "colab": {
          "base_uri": "https://localhost:8080/",
          "height": 121
        },
        "outputId": "029737a6-09c2-4fae-aabf-0b63b9aa238b"
      },
      "source": [
        "sqlContext.sql(\"select sum(Unit_Cost),sum(Total_Cost),sum(Unit_Price),count(Units_Sold),sum(Total_Revenue),sum(Total_Profit) from big_data where Region == 'Europe' AND Item_Type == 'Snacks' AND Sales_Channel =='Offline' \").show()"
      ],
      "execution_count": 135,
      "outputs": [
        {
          "output_type": "stream",
          "text": [
            "+------------------+---------------+------------------+-----------------+-------------------+--------------------+\n",
            "|    sum(Unit_Cost)|sum(Total_Cost)|   sum(Unit_Price)|count(Units_Sold)| sum(Total_Revenue)|   sum(Total_Profit)|\n",
            "+------------------+---------------+------------------+-----------------+-------------------+--------------------+\n",
            "|101435.04000000047|  5.103327432E8|158835.78000000142|             1041|7.991232549000001E8|2.8879051170000005E8|\n",
            "+------------------+---------------+------------------+-----------------+-------------------+--------------------+\n",
            "\n"
          ],
          "name": "stdout"
        }
      ]
    },
    {
      "cell_type": "code",
      "metadata": {
        "id": "j5WAiodIeUZ5",
        "colab_type": "code",
        "colab": {
          "base_uri": "https://localhost:8080/",
          "height": 121
        },
        "outputId": "1b8b2ada-6eb4-4743-b361-77cbcd5a8ad8"
      },
      "source": [
        "sqlContext.sql(\"select sum(Unit_Cost),sum(Total_Cost),sum(Unit_Price),count(Units_Sold),sum(Total_Revenue),sum(Total_Profit) from big_data where Region == 'Middle East and North Africa' AND Item_Type == 'Snacks' AND Sales_Channel =='Online' \").show()"
      ],
      "execution_count": 136,
      "outputs": [
        {
          "output_type": "stream",
          "text": [
            "+-----------------+--------------------+-----------------+-----------------+-------------------+--------------------+\n",
            "|   sum(Unit_Cost)|     sum(Total_Cost)|  sum(Unit_Price)|count(Units_Sold)| sum(Total_Revenue)|   sum(Total_Profit)|\n",
            "+-----------------+--------------------+-----------------+-----------------+-------------------+--------------------+\n",
            "|50571.35999999982|2.4409821072000006E8|79189.02000000051|              519|3.822301415399999E8|1.3813193082000002E8|\n",
            "+-----------------+--------------------+-----------------+-----------------+-------------------+--------------------+\n",
            "\n"
          ],
          "name": "stdout"
        }
      ]
    },
    {
      "cell_type": "code",
      "metadata": {
        "id": "Y83TfSW_fUbM",
        "colab_type": "code",
        "colab": {
          "base_uri": "https://localhost:8080/",
          "height": 121
        },
        "outputId": "2090f3fa-a753-44b1-863e-df6e8286ca51"
      },
      "source": [
        "sqlContext.sql(\"select sum(Unit_Cost),sum(Total_Cost),sum(Unit_Price),count(Units_Sold),sum(Total_Revenue),sum(Total_Profit) from big_data where Region == 'Middle East and North Africa' AND Item_Type == 'Snacks' AND Sales_Channel =='Offline' \").show()"
      ],
      "execution_count": 137,
      "outputs": [
        {
          "output_type": "stream",
          "text": [
            "+-----------------+-------------------+-----------------+-----------------+--------------------+--------------------+\n",
            "|   sum(Unit_Cost)|    sum(Total_Cost)|  sum(Unit_Price)|count(Units_Sold)|  sum(Total_Revenue)|   sum(Total_Profit)|\n",
            "+-----------------+-------------------+-----------------+-----------------+--------------------+--------------------+\n",
            "|54566.39999999993|2.768961249599999E8|85444.80000000058|              560|4.3358795921999997E8|1.5669183426000008E8|\n",
            "+-----------------+-------------------+-----------------+-----------------+--------------------+--------------------+\n",
            "\n"
          ],
          "name": "stdout"
        }
      ]
    },
    {
      "cell_type": "code",
      "metadata": {
        "id": "y9D82kQDeUSc",
        "colab_type": "code",
        "colab": {
          "base_uri": "https://localhost:8080/",
          "height": 121
        },
        "outputId": "9f780212-fc90-4a01-e1c7-fbc6b2325638"
      },
      "source": [
        "sqlContext.sql(\"select sum(Unit_Cost),sum(Total_Cost),sum(Unit_Price),count(Units_Sold),sum(Total_Revenue),sum(Total_Profit) from big_data where Region == 'Australia and Oceania' AND Item_Type == 'Snacks' AND Sales_Channel =='Online' \").show()"
      ],
      "execution_count": 138,
      "outputs": [
        {
          "output_type": "stream",
          "text": [
            "+-----------------+--------------------+----------------+-----------------+--------------------+-------------------+\n",
            "|   sum(Unit_Cost)|     sum(Total_Cost)| sum(Unit_Price)|count(Units_Sold)|  sum(Total_Revenue)|  sum(Total_Profit)|\n",
            "+-----------------+--------------------+----------------+-----------------+--------------------+-------------------+\n",
            "|33129.59999999995|1.6424866415999997E8|51877.2000000002|              340|2.5719479862000006E8|9.294613446000004E7|\n",
            "+-----------------+--------------------+----------------+-----------------+--------------------+-------------------+\n",
            "\n"
          ],
          "name": "stdout"
        }
      ]
    },
    {
      "cell_type": "code",
      "metadata": {
        "id": "YJdSyFd-fZGF",
        "colab_type": "code",
        "colab": {
          "base_uri": "https://localhost:8080/",
          "height": 121
        },
        "outputId": "b8004f86-7c76-4cdf-d355-d83537696a5d"
      },
      "source": [
        "sqlContext.sql(\"select sum(Unit_Cost),sum(Total_Cost),sum(Unit_Price),count(Units_Sold),sum(Total_Revenue),sum(Total_Profit) from big_data where Region == 'Australia and Oceania' AND Item_Type == 'Snacks' AND Sales_Channel =='Offline' \").show()"
      ],
      "execution_count": 139,
      "outputs": [
        {
          "output_type": "stream",
          "text": [
            "+-----------------+--------------------+-----------------+-----------------+--------------------+-----------------+\n",
            "|   sum(Unit_Cost)|     sum(Total_Cost)|  sum(Unit_Price)|count(Units_Sold)|  sum(Total_Revenue)|sum(Total_Profit)|\n",
            "+-----------------+--------------------+-----------------+-----------------+--------------------+-----------------+\n",
            "|30985.91999999997|1.5950869535999998E8|48520.44000000017|              318|2.4977254451999992E8|    9.026384916E7|\n",
            "+-----------------+--------------------+-----------------+-----------------+--------------------+-----------------+\n",
            "\n"
          ],
          "name": "stdout"
        }
      ]
    },
    {
      "cell_type": "code",
      "metadata": {
        "id": "RSmTrVC_eUIb",
        "colab_type": "code",
        "colab": {
          "base_uri": "https://localhost:8080/",
          "height": 121
        },
        "outputId": "135c84b1-3d77-43e2-8400-e858357465e3"
      },
      "source": [
        "sqlContext.sql(\"select sum(Unit_Cost),sum(Total_Cost),sum(Unit_Price),count(Units_Sold),sum(Total_Revenue),sum(Total_Profit) from big_data where Region == 'Central America and the Caribbean' AND Item_Type == 'Snacks' AND Sales_Channel =='Online' \").show()"
      ],
      "execution_count": 140,
      "outputs": [
        {
          "output_type": "stream",
          "text": [
            "+------------------+--------------------+-----------------+-----------------+--------------------+--------------------+\n",
            "|    sum(Unit_Cost)|     sum(Total_Cost)|  sum(Unit_Price)|count(Units_Sold)|  sum(Total_Revenue)|   sum(Total_Profit)|\n",
            "+------------------+--------------------+-----------------+-----------------+--------------------+--------------------+\n",
            "|44919.839999999866|2.2200641904000002E8|70339.38000000041|              461|3.4763689878000003E8|1.2563047973999998E8|\n",
            "+------------------+--------------------+-----------------+-----------------+--------------------+--------------------+\n",
            "\n"
          ],
          "name": "stdout"
        }
      ]
    },
    {
      "cell_type": "code",
      "metadata": {
        "id": "7tqsgshPfeXp",
        "colab_type": "code",
        "colab": {
          "base_uri": "https://localhost:8080/",
          "height": 121
        },
        "outputId": "a94b69ae-19c4-488f-e06a-0a795b77ce29"
      },
      "source": [
        "sqlContext.sql(\"select sum(Unit_Cost),sum(Total_Cost),sum(Unit_Price),count(Units_Sold),sum(Total_Revenue),sum(Total_Profit) from big_data where Region == 'Central America and the Caribbean' AND Item_Type == 'Snacks' AND Sales_Channel =='Offline' \").show()"
      ],
      "execution_count": 141,
      "outputs": [
        {
          "output_type": "stream",
          "text": [
            "+-----------------+-------------------+-----------------+-----------------+-------------------+--------------------+\n",
            "|   sum(Unit_Cost)|    sum(Total_Cost)|  sum(Unit_Price)|count(Units_Sold)| sum(Total_Revenue)|   sum(Total_Profit)|\n",
            "+-----------------+-------------------+-----------------+-----------------+-------------------+--------------------+\n",
            "|43068.47999999986|2.141411596800001E8|67440.36000000038|              442|3.353207937600001E8|1.2117963407999995E8|\n",
            "+-----------------+-------------------+-----------------+-----------------+-------------------+--------------------+\n",
            "\n"
          ],
          "name": "stdout"
        }
      ]
    },
    {
      "cell_type": "code",
      "metadata": {
        "id": "Eb09E05NeT7q",
        "colab_type": "code",
        "colab": {
          "base_uri": "https://localhost:8080/",
          "height": 121
        },
        "outputId": "ef7927fe-9965-43dd-bfcb-d46d6b401248"
      },
      "source": [
        "sqlContext.sql(\"select sum(Unit_Cost),sum(Total_Cost),sum(Unit_Price),count(Units_Sold),sum(Total_Revenue),sum(Total_Profit) from big_data where Region == 'North America' AND Item_Type == 'Snacks' AND Sales_Channel =='Online' \").show()"
      ],
      "execution_count": 142,
      "outputs": [
        {
          "output_type": "stream",
          "text": [
            "+-----------------+--------------------+------------------+-----------------+-------------------+--------------------+\n",
            "|   sum(Unit_Cost)|     sum(Total_Cost)|   sum(Unit_Price)|count(Units_Sold)| sum(Total_Revenue)|   sum(Total_Profit)|\n",
            "+-----------------+--------------------+------------------+-----------------+-------------------+--------------------+\n",
            "|7990.079999999998|4.0649726879999995E7|12511.559999999998|               82|6.365286666000001E7|2.3003139780000005E7|\n",
            "+-----------------+--------------------+------------------+-----------------+-------------------+--------------------+\n",
            "\n"
          ],
          "name": "stdout"
        }
      ]
    },
    {
      "cell_type": "code",
      "metadata": {
        "id": "xSilh8kafpjR",
        "colab_type": "code",
        "colab": {
          "base_uri": "https://localhost:8080/",
          "height": 121
        },
        "outputId": "b7f28ab1-1633-428a-dfb7-213612467b28"
      },
      "source": [
        "sqlContext.sql(\"select sum(Unit_Cost),sum(Total_Cost),sum(Unit_Price),count(Units_Sold),sum(Total_Revenue),sum(Total_Profit) from big_data where Region == 'North America' AND Item_Type == 'Snacks' AND Sales_Channel =='Offline' \").show()"
      ],
      "execution_count": 143,
      "outputs": [
        {
          "output_type": "stream",
          "text": [
            "+-----------------+--------------------+------------------+-----------------+--------------------+-----------------+\n",
            "|   sum(Unit_Cost)|     sum(Total_Cost)|   sum(Unit_Price)|count(Units_Sold)|  sum(Total_Revenue)|sum(Total_Profit)|\n",
            "+-----------------+--------------------+------------------+-----------------+--------------------+-----------------+\n",
            "|8769.599999999997|4.2769144320000015E7|13732.199999999997|               90|6.6971634239999995E7|    2.420248992E7|\n",
            "+-----------------+--------------------+------------------+-----------------+--------------------+-----------------+\n",
            "\n"
          ],
          "name": "stdout"
        }
      ]
    },
    {
      "cell_type": "code",
      "metadata": {
        "id": "A6ZSjKUmUiEU",
        "colab_type": "code",
        "colab": {
          "base_uri": "https://localhost:8080/",
          "height": 121
        },
        "outputId": "ede6c255-b988-424e-b207-e4454ee67359"
      },
      "source": [
        "sqlContext.sql(\"select sum(Unit_Cost),sum(Total_Cost),sum(Unit_Price),count(Units_Sold),sum(Total_Revenue),sum(Total_Profit) from big_data where Region == 'Sub-Saharan Africa' AND Item_Type == 'Clothes' AND Sales_Channel =='Online' \").show()"
      ],
      "execution_count": 75,
      "outputs": [
        {
          "output_type": "stream",
          "text": [
            "+-----------------+-------------------+-----------------+------------------+-------------------+--------------------+\n",
            "|   sum(Unit_Cost)|  sum(Total_Profit)|count(Units_Sold)|   sum(Unit_Price)| sum(Total_Revenue)|     sum(Total_Cost)|\n",
            "+-----------------+-------------------+-----------------+------------------+-------------------+--------------------+\n",
            "|38384.64000000013|3.816287568000001E8|             1071|117038.87999999919|5.678702415999998E8|1.8624148479999998E8|\n",
            "+-----------------+-------------------+-----------------+------------------+-------------------+--------------------+\n",
            "\n"
          ],
          "name": "stdout"
        }
      ]
    },
    {
      "cell_type": "code",
      "metadata": {
        "id": "lCwbFJsjUh65",
        "colab_type": "code",
        "colab": {
          "base_uri": "https://localhost:8080/",
          "height": 121
        },
        "outputId": "446ca584-a0c9-465a-d6ba-bebca4edb70a"
      },
      "source": [
        "sqlContext.sql(\"select sum(Unit_Cost),sum(Total_Cost),sum(Unit_Price),count(Units_Sold),sum(Total_Revenue),sum(Total_Profit) from big_data where Region == 'Sub-Saharan Africa' AND Item_Type == 'Clothes' AND Sales_Channel =='Offline' \").show()"
      ],
      "execution_count": 100,
      "outputs": [
        {
          "output_type": "stream",
          "text": [
            "+-----------------+---------------+-----------------+-----------------+-------------------+--------------------+\n",
            "|   sum(Unit_Cost)|sum(Total_Cost)|  sum(Unit_Price)|count(Units_Sold)| sum(Total_Revenue)|   sum(Total_Profit)|\n",
            "+-----------------+---------------+-----------------+-----------------+-------------------+--------------------+\n",
            "|38205.44000000013| 1.9350879744E8|116492.4799999992|             1066|5.900290564799991E8|3.9652025903999954E8|\n",
            "+-----------------+---------------+-----------------+-----------------+-------------------+--------------------+\n",
            "\n"
          ],
          "name": "stdout"
        }
      ]
    },
    {
      "cell_type": "code",
      "metadata": {
        "id": "4UZlWzV_UhzN",
        "colab_type": "code",
        "colab": {
          "base_uri": "https://localhost:8080/",
          "height": 121
        },
        "outputId": "cb1ebcdf-68ea-4482-bd14-df134f3e7461"
      },
      "source": [
        "sqlContext.sql(\"select sum(Unit_Cost),sum(Total_Cost),sum(Unit_Price),count(Units_Sold),sum(Total_Revenue),sum(Total_Profit) from big_data where Region == 'Sub-Saharan Africa' AND Item_Type == 'Beverages' AND Sales_Channel =='Online' \").show()"
      ],
      "execution_count": 101,
      "outputs": [
        {
          "output_type": "stream",
          "text": [
            "+----------------+--------------------+------------------+-----------------+--------------------+-------------------+\n",
            "|  sum(Unit_Cost)|     sum(Total_Cost)|   sum(Unit_Price)|count(Units_Sold)|  sum(Total_Revenue)|  sum(Total_Profit)|\n",
            "+----------------+--------------------+------------------+-----------------+--------------------+-------------------+\n",
            "|35064.3700000005|1.7564617157999995E8|52337.350000000384|             1103|2.6217083490000015E8|8.652466332000002E7|\n",
            "+----------------+--------------------+------------------+-----------------+--------------------+-------------------+\n",
            "\n"
          ],
          "name": "stdout"
        }
      ]
    },
    {
      "cell_type": "code",
      "metadata": {
        "id": "WtT4SRp7UhqV",
        "colab_type": "code",
        "colab": {
          "base_uri": "https://localhost:8080/",
          "height": 121
        },
        "outputId": "99123214-e147-4d33-b4c5-cd785701e708"
      },
      "source": [
        "sqlContext.sql(\"select sum(Unit_Cost),sum(Total_Cost),sum(Unit_Price),count(Units_Sold),sum(Total_Revenue),sum(Total_Profit) from big_data where Region == 'Sub-Saharan Africa' AND Item_Type == 'Beverages' AND Sales_Channel =='Offline' \").show()"
      ],
      "execution_count": 102,
      "outputs": [
        {
          "output_type": "stream",
          "text": [
            "+-----------------+---------------+-----------------+-----------------+--------------------+-------------------+\n",
            "|   sum(Unit_Cost)|sum(Total_Cost)|  sum(Unit_Price)|count(Units_Sold)|  sum(Total_Revenue)|  sum(Total_Profit)|\n",
            "+-----------------+---------------+-----------------+-----------------+--------------------+-------------------+\n",
            "|34778.26000000049| 1.7636529317E8|51910.30000000031|             1094|2.6324420135000014E8|8.687890817999995E7|\n",
            "+-----------------+---------------+-----------------+-----------------+--------------------+-------------------+\n",
            "\n"
          ],
          "name": "stdout"
        }
      ]
    },
    {
      "cell_type": "code",
      "metadata": {
        "id": "f2PCRwSLUhfy",
        "colab_type": "code",
        "colab": {
          "base_uri": "https://localhost:8080/",
          "height": 121
        },
        "outputId": "45e60206-039c-4871-b120-53b9fa4c3176"
      },
      "source": [
        "sqlContext.sql(\"select sum(Unit_Cost),sum(Total_Cost),sum(Unit_Price),count(Units_Sold),sum(Total_Revenue),sum(Total_Profit) from big_data where Region == 'Sub-Saharan Africa' AND Item_Type == 'Cereal' AND Sales_Channel =='Online' \").show()"
      ],
      "execution_count": 104,
      "outputs": [
        {
          "output_type": "stream",
          "text": [
            "+-----------------+-------------------+------------------+-----------------+--------------------+-------------------+\n",
            "|   sum(Unit_Cost)|    sum(Total_Cost)|   sum(Unit_Price)|count(Units_Sold)|  sum(Total_Revenue)|  sum(Total_Profit)|\n",
            "+-----------------+-------------------+------------------+-----------------+--------------------+-------------------+\n",
            "|124839.2600000005|6.217580698000002E8|219276.19999999893|             1066|1.0920983259999998E9|4.703402561999997E8|\n",
            "+-----------------+-------------------+------------------+-----------------+--------------------+-------------------+\n",
            "\n"
          ],
          "name": "stdout"
        }
      ]
    },
    {
      "cell_type": "code",
      "metadata": {
        "id": "EWmVrNM4UhN7",
        "colab_type": "code",
        "colab": {
          "base_uri": "https://localhost:8080/",
          "height": 121
        },
        "outputId": "80942c43-d4d9-4ac0-a902-238c014c51e9"
      },
      "source": [
        "sqlContext.sql(\"select sum(Unit_Cost),sum(Total_Cost),sum(Unit_Price),count(Units_Sold),sum(Total_Revenue),sum(Total_Profit) from big_data where Region == 'Sub-Saharan Africa' AND Item_Type == 'Cereal' AND Sales_Channel =='Offline' \").show()"
      ],
      "execution_count": 105,
      "outputs": [
        {
          "output_type": "stream",
          "text": [
            "+------------------+---------------+------------------+-----------------+--------------------+-------------------+\n",
            "|    sum(Unit_Cost)|sum(Total_Cost)|   sum(Unit_Price)|count(Units_Sold)|  sum(Total_Revenue)|  sum(Total_Profit)|\n",
            "+------------------+---------------+------------------+-----------------+--------------------+-------------------+\n",
            "|125541.92000000051| 6.2933473547E8|220510.39999999938|             1072|1.1054064989000003E9|4.760717634300002E8|\n",
            "+------------------+---------------+------------------+-----------------+--------------------+-------------------+\n",
            "\n"
          ],
          "name": "stdout"
        }
      ]
    },
    {
      "cell_type": "code",
      "metadata": {
        "id": "1-EzulVPQ2mJ",
        "colab_type": "code",
        "colab": {
          "base_uri": "https://localhost:8080/",
          "height": 121
        },
        "outputId": "68bd0e3d-072f-4629-bc74-6c8e52dd438b"
      },
      "source": [
        "sqlContext.sql(\"select sum(Unit_Cost),sum(Total_Cost),sum(Unit_Price),count(Units_Sold),sum(Total_Revenue),sum(Total_Profit) from big_data where Region == 'Sub-Saharan Africa' AND Item_Type == 'Meat' AND Sales_Channel =='Online' \").show()"
      ],
      "execution_count": 106,
      "outputs": [
        {
          "output_type": "stream",
          "text": [
            "+------------------+--------------------+-----------------+-----------------+--------------------+--------------------+\n",
            "|    sum(Unit_Cost)|     sum(Total_Cost)|  sum(Unit_Price)|count(Units_Sold)|  sum(Total_Revenue)|   sum(Total_Profit)|\n",
            "+------------------+--------------------+-----------------+-----------------+--------------------+--------------------+\n",
            "|400794.31000000203|1.9784045928600008E9|463657.1100000063|             1099|2.2887085296600027E9|3.1030393679999983E8|\n",
            "+------------------+--------------------+-----------------+-----------------+--------------------+--------------------+\n",
            "\n"
          ],
          "name": "stdout"
        }
      ]
    },
    {
      "cell_type": "code",
      "metadata": {
        "id": "bjE0FfEfXPGT",
        "colab_type": "code",
        "colab": {
          "base_uri": "https://localhost:8080/",
          "height": 121
        },
        "outputId": "d1c789ed-b440-4349-cd3f-075f352c93f1"
      },
      "source": [
        "sqlContext.sql(\"select sum(Unit_Cost),sum(Total_Cost),sum(Unit_Price),count(Units_Sold),sum(Total_Revenue),sum(Total_Profit) from big_data where Region == 'Sub-Saharan Africa' AND Item_Type == 'Meat' AND Sales_Channel =='Offline' \").show()"
      ],
      "execution_count": 107,
      "outputs": [
        {
          "output_type": "stream",
          "text": [
            "+----------------+--------------------+------------------+-----------------+------------------+-------------------+\n",
            "|  sum(Unit_Cost)|     sum(Total_Cost)|   sum(Unit_Price)|count(Units_Sold)|sum(Total_Revenue)|  sum(Total_Profit)|\n",
            "+----------------+--------------------+------------------+-----------------+------------------+-------------------+\n",
            "|394959.270000002|1.9575465130000014E9|456906.87000000605|             1083|     2.264578953E9|3.070324399999999E8|\n",
            "+----------------+--------------------+------------------+-----------------+------------------+-------------------+\n",
            "\n"
          ],
          "name": "stdout"
        }
      ]
    },
    {
      "cell_type": "code",
      "metadata": {
        "id": "NBn4js7_XO9w",
        "colab_type": "code",
        "colab": {
          "base_uri": "https://localhost:8080/",
          "height": 121
        },
        "outputId": "a3a19dea-1ac4-402e-d873-bd8350bdcbee"
      },
      "source": [
        "sqlContext.sql(\"select sum(Unit_Cost),sum(Total_Cost),sum(Unit_Price),count(Units_Sold),sum(Total_Revenue),sum(Total_Profit) from big_data where Region == 'Sub-Saharan Africa' AND Item_Type == 'Household' AND Sales_Channel =='Online' \").show()"
      ],
      "execution_count": 108,
      "outputs": [
        {
          "output_type": "stream",
          "text": [
            "+-----------------+-------------------+-----------------+-----------------+--------------------+-----------------+\n",
            "|   sum(Unit_Cost)|    sum(Total_Cost)|  sum(Unit_Price)|count(Units_Sold)|  sum(Total_Revenue)|sum(Total_Profit)|\n",
            "+-----------------+-------------------+-----------------+-----------------+--------------------+-----------------+\n",
            "|550783.8399999978|2.786497863120001E9|732423.9200000025|             1096|3.7054422075600004E9|   9.1894434444E8|\n",
            "+-----------------+-------------------+-----------------+-----------------+--------------------+-----------------+\n",
            "\n"
          ],
          "name": "stdout"
        }
      ]
    },
    {
      "cell_type": "code",
      "metadata": {
        "id": "hL0F0efvXO2A",
        "colab_type": "code",
        "colab": {
          "base_uri": "https://localhost:8080/",
          "height": 121
        },
        "outputId": "c9b69c5b-bf82-4592-da0d-b86f08ca45df"
      },
      "source": [
        "sqlContext.sql(\"select sum(Unit_Cost),sum(Total_Cost),sum(Unit_Price),count(Units_Sold),sum(Total_Revenue),sum(Total_Profit) from big_data where Region == 'Sub-Saharan Africa' AND Item_Type == 'Household' AND Sales_Channel =='Offline' \").show()"
      ],
      "execution_count": 109,
      "outputs": [
        {
          "output_type": "stream",
          "text": [
            "+----------------+--------------------+-----------------+-----------------+--------------------+-------------------+\n",
            "|  sum(Unit_Cost)|     sum(Total_Cost)|  sum(Unit_Price)|count(Units_Sold)|  sum(Total_Revenue)|  sum(Total_Profit)|\n",
            "+----------------+--------------------+-----------------+-----------------+--------------------+-------------------+\n",
            "|543748.279999997|2.7251819526400003E9|723068.1400000032|             1082|3.6239052483200006E9|8.987232956800001E8|\n",
            "+----------------+--------------------+-----------------+-----------------+--------------------+-------------------+\n",
            "\n"
          ],
          "name": "stdout"
        }
      ]
    },
    {
      "cell_type": "code",
      "metadata": {
        "id": "1x0K8Az1XOwc",
        "colab_type": "code",
        "colab": {
          "base_uri": "https://localhost:8080/",
          "height": 121
        },
        "outputId": "e52335d1-a464-4ec8-d7f9-a938e45b6d88"
      },
      "source": [
        "sqlContext.sql(\"select sum(Unit_Cost),sum(Total_Cost),sum(Unit_Price),count(Units_Sold),sum(Total_Revenue),sum(Total_Profit) from big_data where Region == 'Sub-Saharan Africa' AND Item_Type == 'Vegetables' AND Sales_Channel =='Online' \").show()"
      ],
      "execution_count": 95,
      "outputs": [
        {
          "output_type": "stream",
          "text": [
            "+-----------------+-------------------+------------------+-----------------+-------------------+--------------------+\n",
            "|   sum(Unit_Cost)|    sum(Total_Cost)|   sum(Unit_Price)|count(Units_Sold)| sum(Total_Revenue)|   sum(Total_Profit)|\n",
            "+-----------------+-------------------+------------------+-----------------+-------------------+--------------------+\n",
            "|97476.96000000014|4.946089157099997E8|165152.31999999876|             1072|8.380012048199997E8|3.4339228910999984E8|\n",
            "+-----------------+-------------------+------------------+-----------------+-------------------+--------------------+\n",
            "\n"
          ],
          "name": "stdout"
        }
      ]
    },
    {
      "cell_type": "code",
      "metadata": {
        "id": "ex9ZtlR-XOnz",
        "colab_type": "code",
        "colab": {
          "base_uri": "https://localhost:8080/",
          "height": 121
        },
        "outputId": "aa92c8f6-186f-4120-83f1-40c26140b1e9"
      },
      "source": [
        "sqlContext.sql(\"select sum(Unit_Cost),sum(Total_Cost),sum(Unit_Price),count(Units_Sold),sum(Total_Revenue),sum(Total_Profit) from big_data where Region == 'Sub-Saharan Africa' AND Item_Type == 'Vegetables' AND Sales_Channel =='Offline' \").show()"
      ],
      "execution_count": 110,
      "outputs": [
        {
          "output_type": "stream",
          "text": [
            "+-----------------+---------------+-----------------+-----------------+-------------------+--------------------+\n",
            "|   sum(Unit_Cost)|sum(Total_Cost)|  sum(Unit_Price)|count(Units_Sold)| sum(Total_Revenue)|   sum(Total_Profit)|\n",
            "+-----------------+---------------+-----------------+-----------------+-------------------+--------------------+\n",
            "|91293.72000000025| 4.4743061265E8|154676.2399999989|             1004|7.580684063000003E8|3.1063779365000004E8|\n",
            "+-----------------+---------------+-----------------+-----------------+-------------------+--------------------+\n",
            "\n"
          ],
          "name": "stdout"
        }
      ]
    },
    {
      "cell_type": "code",
      "metadata": {
        "id": "TDuGTnQOXOgq",
        "colab_type": "code",
        "colab": {
          "base_uri": "https://localhost:8080/",
          "height": 121
        },
        "outputId": "101154ec-d197-40b2-db68-a2778f92d6f5"
      },
      "source": [
        "sqlContext.sql(\"select sum(Unit_Cost),sum(Total_Cost),sum(Unit_Price),count(Units_Sold),sum(Total_Revenue),sum(Total_Profit) from big_data where Region == 'Sub-Saharan Africa' AND Item_Type == 'Office Supplies' AND Sales_Channel =='Online' \").show()"
      ],
      "execution_count": 111,
      "outputs": [
        {
          "output_type": "stream",
          "text": [
            "+-----------------+--------------------+-----------------+-----------------+-------------------+-----------------+\n",
            "|   sum(Unit_Cost)|     sum(Total_Cost)|  sum(Unit_Price)|count(Units_Sold)| sum(Total_Revenue)|sum(Total_Profit)|\n",
            "+-----------------+--------------------+-----------------+-----------------+-------------------+-----------------+\n",
            "|564856.9600000026|2.8495511247999988E9|700701.9600000045|             1076|3.534852537299999E9|    6.853014125E8|\n",
            "+-----------------+--------------------+-----------------+-----------------+-------------------+-----------------+\n",
            "\n"
          ],
          "name": "stdout"
        }
      ]
    },
    {
      "cell_type": "code",
      "metadata": {
        "id": "NCpozaMbXOXz",
        "colab_type": "code",
        "colab": {
          "base_uri": "https://localhost:8080/",
          "height": 121
        },
        "outputId": "c3ddd69b-1b7c-4055-edb4-6dad5a4275e1"
      },
      "source": [
        "sqlContext.sql(\"select sum(Unit_Cost),sum(Total_Cost),sum(Unit_Price),count(Units_Sold),sum(Total_Revenue),sum(Total_Profit) from big_data where Region == 'Sub-Saharan Africa' AND Item_Type == 'Office Supplies' AND Sales_Channel =='Offline' \").show()"
      ],
      "execution_count": 112,
      "outputs": [
        {
          "output_type": "stream",
          "text": [
            "+-----------------+-------------------+-----------------+-----------------+-------------------+-----------------+\n",
            "|   sum(Unit_Cost)|    sum(Total_Cost)|  sum(Unit_Price)|count(Units_Sold)| sum(Total_Revenue)|sum(Total_Profit)|\n",
            "+-----------------+-------------------+-----------------+-----------------+-------------------+-----------------+\n",
            "|574831.2000000046|2.936992137119999E9|713074.9500000064|             1095|3.643322633370001E9|   7.0633049625E8|\n",
            "+-----------------+-------------------+-----------------+-----------------+-------------------+-----------------+\n",
            "\n"
          ],
          "name": "stdout"
        }
      ]
    },
    {
      "cell_type": "code",
      "metadata": {
        "id": "uybdcaNJXOPZ",
        "colab_type": "code",
        "colab": {
          "base_uri": "https://localhost:8080/",
          "height": 121
        },
        "outputId": "d14e1586-9438-4644-8f94-b0b2d00a563c"
      },
      "source": [
        "sqlContext.sql(\"select sum(Unit_Cost),sum(Total_Cost),sum(Unit_Price),count(Units_Sold),sum(Total_Revenue),sum(Total_Profit) from big_data where Region == 'Sub-Saharan Africa' AND Item_Type == 'Cosmetics' AND Sales_Channel =='Online' \").show()"
      ],
      "execution_count": 113,
      "outputs": [
        {
          "output_type": "stream",
          "text": [
            "+-----------------+--------------------+-----------------+-----------------+-------------------+-------------------+\n",
            "|   sum(Unit_Cost)|     sum(Total_Cost)|  sum(Unit_Price)|count(Units_Sold)| sum(Total_Revenue)|  sum(Total_Profit)|\n",
            "+-----------------+--------------------+-----------------+-----------------+-------------------+-------------------+\n",
            "|293612.9499999981|1.5014615772500005E9|487478.0000000048|             1115|2.492837889999999E9|9.913763127500002E8|\n",
            "+-----------------+--------------------+-----------------+-----------------+-------------------+-------------------+\n",
            "\n"
          ],
          "name": "stdout"
        }
      ]
    },
    {
      "cell_type": "code",
      "metadata": {
        "id": "Vqt27xcfXOFo",
        "colab_type": "code",
        "colab": {
          "base_uri": "https://localhost:8080/",
          "height": 121
        },
        "outputId": "7adb5a0e-5b2f-47eb-97a3-4b485a12b911"
      },
      "source": [
        "sqlContext.sql(\"select sum(Unit_Cost),sum(Total_Cost),sum(Unit_Price),count(Units_Sold),sum(Total_Revenue),sum(Total_Profit) from big_data where Region == 'Sub-Saharan Africa' AND Item_Type == 'Cosmetics' AND Sales_Channel =='Offline' \").show()"
      ],
      "execution_count": 114,
      "outputs": [
        {
          "output_type": "stream",
          "text": [
            "+-----------------+--------------------+----------------+-----------------+------------------+-------------------+\n",
            "|   sum(Unit_Cost)|     sum(Total_Cost)| sum(Unit_Price)|count(Units_Sold)|sum(Total_Revenue)|  sum(Total_Profit)|\n",
            "+-----------------+--------------------+----------------+-----------------+------------------+-------------------+\n",
            "|300196.1999999981|1.4790045315199997E9|498408.000000005|             1140|    2.4555530368E9|9.765485052799995E8|\n",
            "+-----------------+--------------------+----------------+-----------------+------------------+-------------------+\n",
            "\n"
          ],
          "name": "stdout"
        }
      ]
    },
    {
      "cell_type": "code",
      "metadata": {
        "id": "wmMxGkxYXNhQ",
        "colab_type": "code",
        "colab": {
          "base_uri": "https://localhost:8080/",
          "height": 121
        },
        "outputId": "61b84c74-343d-4ab9-b1fa-8e10b4d078ba"
      },
      "source": [
        "sqlContext.sql(\"select sum(Unit_Cost),sum(Total_Cost),sum(Unit_Price),count(Units_Sold),sum(Total_Revenue),sum(Total_Profit) from big_data where Region == 'Sub-Saharan Africa' AND Item_Type == 'Personal Care' AND Sales_Channel =='Online' \").show()"
      ],
      "execution_count": 115,
      "outputs": [
        {
          "output_type": "stream",
          "text": [
            "+-----------------+-------------------+-----------------+-----------------+-------------------+-----------------+\n",
            "|   sum(Unit_Cost)|    sum(Total_Cost)|  sum(Unit_Price)|count(Units_Sold)| sum(Total_Revenue)|sum(Total_Profit)|\n",
            "+-----------------+-------------------+-----------------+-----------------+-------------------+-----------------+\n",
            "|63527.06999999909|3.089139503400003E8|91619.33000000083|             1121|4.455185664600003E8|   1.3660461612E8|\n",
            "+-----------------+-------------------+-----------------+-----------------+-------------------+-----------------+\n",
            "\n"
          ],
          "name": "stdout"
        }
      ]
    },
    {
      "cell_type": "code",
      "metadata": {
        "id": "rDZnSPRrZUX3",
        "colab_type": "code",
        "colab": {
          "base_uri": "https://localhost:8080/",
          "height": 121
        },
        "outputId": "44028ad6-131d-45ee-d952-bfc5811abfce"
      },
      "source": [
        "sqlContext.sql(\"select sum(Unit_Cost),sum(Total_Cost),sum(Unit_Price),count(Units_Sold),sum(Total_Revenue),sum(Total_Profit) from big_data where Region == 'Sub-Saharan Africa' AND Item_Type == 'Personal Care' AND Sales_Channel =='Offline' \").show()"
      ],
      "execution_count": 116,
      "outputs": [
        {
          "output_type": "stream",
          "text": [
            "+------------------+-------------------+-----------------+-----------------+--------------------+--------------------+\n",
            "|    sum(Unit_Cost)|    sum(Total_Cost)|  sum(Unit_Price)|count(Units_Sold)|  sum(Total_Revenue)|   sum(Total_Profit)|\n",
            "+------------------+-------------------+-----------------+-----------------+--------------------+--------------------+\n",
            "|61430.279999999155|2.982956357699999E8|88595.32000000076|             1084|4.3020473463000005E8|1.3190909885999998E8|\n",
            "+------------------+-------------------+-----------------+-----------------+--------------------+--------------------+\n",
            "\n"
          ],
          "name": "stdout"
        }
      ]
    },
    {
      "cell_type": "code",
      "metadata": {
        "id": "fHx_IJVCZUQ9",
        "colab_type": "code",
        "colab": {
          "base_uri": "https://localhost:8080/",
          "height": 121
        },
        "outputId": "da149286-1077-4677-9968-b479fd1576f2"
      },
      "source": [
        "sqlContext.sql(\"select sum(Unit_Cost),sum(Total_Cost),sum(Unit_Price),count(Units_Sold),sum(Total_Revenue),sum(Total_Profit) from big_data where Region == 'Sub-Saharan Africa' AND Item_Type == 'Fruits' AND Sales_Channel =='Online' \").show()"
      ],
      "execution_count": 117,
      "outputs": [
        {
          "output_type": "stream",
          "text": [
            "+------------------+-------------------+------------------+-----------------+-------------------+--------------------+\n",
            "|    sum(Unit_Cost)|    sum(Total_Cost)|   sum(Unit_Price)|count(Units_Sold)| sum(Total_Revenue)|   sum(Total_Profit)|\n",
            "+------------------+-------------------+------------------+-----------------+-------------------+--------------------+\n",
            "|7494.3600000000515|3.548616828000001E7|10104.389999999941|             1083|4.784479046999997E7|1.2358622190000016E7|\n",
            "+------------------+-------------------+------------------+-----------------+-------------------+--------------------+\n",
            "\n"
          ],
          "name": "stdout"
        }
      ]
    },
    {
      "cell_type": "code",
      "metadata": {
        "id": "BoNHGHHeZUFw",
        "colab_type": "code",
        "colab": {
          "base_uri": "https://localhost:8080/",
          "height": 121
        },
        "outputId": "a9d4f5f1-cde4-4d69-d13f-aac3d3f63608"
      },
      "source": [
        "sqlContext.sql(\"select sum(Unit_Cost),sum(Total_Cost),sum(Unit_Price),count(Units_Sold),sum(Total_Revenue),sum(Total_Profit) from big_data where Region == 'Sub-Saharan Africa' AND Item_Type == 'Fruits' AND Sales_Channel =='Offline' \").show()"
      ],
      "execution_count": 118,
      "outputs": [
        {
          "output_type": "stream",
          "text": [
            "+-----------------+-------------------+-----------------+-----------------+-------------------+--------------------+\n",
            "|   sum(Unit_Cost)|    sum(Total_Cost)|  sum(Unit_Price)|count(Units_Sold)| sum(Total_Revenue)|   sum(Total_Profit)|\n",
            "+-----------------+-------------------+-----------------+-----------------+-------------------+--------------------+\n",
            "|7224.480000000049|3.608332275999997E7|9740.519999999944|             1044|4.864991349000005E7|1.2566590729999995E7|\n",
            "+-----------------+-------------------+-----------------+-----------------+-------------------+--------------------+\n",
            "\n"
          ],
          "name": "stdout"
        }
      ]
    },
    {
      "cell_type": "code",
      "metadata": {
        "id": "23rKS1fWZT8z",
        "colab_type": "code",
        "colab": {}
      },
      "source": [
        ""
      ],
      "execution_count": 0,
      "outputs": []
    },
    {
      "cell_type": "code",
      "metadata": {
        "id": "zm3AjUlpZT0B",
        "colab_type": "code",
        "colab": {}
      },
      "source": [
        ""
      ],
      "execution_count": 0,
      "outputs": []
    },
    {
      "cell_type": "code",
      "metadata": {
        "id": "zH2ioWAlZTo-",
        "colab_type": "code",
        "colab": {}
      },
      "source": [
        ""
      ],
      "execution_count": 0,
      "outputs": []
    }
  ]
}